{
  "nbformat": 4,
  "nbformat_minor": 0,
  "metadata": {
    "colab": {
      "provenance": [],
      "gpuType": "T4"
    },
    "kernelspec": {
      "name": "python3",
      "display_name": "Python 3"
    },
    "language_info": {
      "name": "python"
    },
    "accelerator": "GPU"
  },
  "cells": [
    {
      "cell_type": "code",
      "execution_count": null,
      "metadata": {
        "id": "vG1CP2qOShb_"
      },
      "outputs": [],
      "source": [
        "import pandas as pd\n",
        "from sklearn.model_selection import train_test_split\n",
        "import tensorflow as tf\n",
        "import numpy as np\n",
        "from sklearn.metrics import roc_auc_score\n",
        "from sklearn.preprocessing import StandardScaler\n",
        "import warnings\n",
        "warnings.filterwarnings('ignore')"
      ]
    },
    {
      "cell_type": "code",
      "source": [
        "!wget 'https://www.dropbox.com/s/pwg7req7eos0pwq/Subscribers.csv?dl=0'"
      ],
      "metadata": {
        "colab": {
          "base_uri": "https://localhost:8080/"
        },
        "id": "ywRxRKsxUDcB",
        "outputId": "b7b7ede8-9a13-4a9a-d7d3-4bee8d07bfd0"
      },
      "execution_count": null,
      "outputs": [
        {
          "output_type": "stream",
          "name": "stdout",
          "text": [
            "--2023-08-03 16:40:45--  https://www.dropbox.com/s/pwg7req7eos0pwq/Subscribers.csv?dl=0\n",
            "Resolving www.dropbox.com (www.dropbox.com)... 162.125.80.18, 2620:100:601c:18::a27d:612\n",
            "Connecting to www.dropbox.com (www.dropbox.com)|162.125.80.18|:443... connected.\n",
            "HTTP request sent, awaiting response... 302 Found\n",
            "Location: /s/raw/pwg7req7eos0pwq/Subscribers.csv [following]\n",
            "--2023-08-03 16:40:46--  https://www.dropbox.com/s/raw/pwg7req7eos0pwq/Subscribers.csv\n",
            "Reusing existing connection to www.dropbox.com:443.\n",
            "HTTP request sent, awaiting response... 302 Found\n",
            "Location: https://uc7724b573e59eac37eabe112d89.dl.dropboxusercontent.com/cd/0/inline/CBGWHQ0e53e31HQowCTbdn54Y7Ev71Dr4BYzkufkbWcWEeBRVkWDL82ZpaILwTXfG6PegOAZ4qF8G7Ay1Nt7ebXl_Bif2Y8eQ64KAVDY2TFUX6qZNo0SyXKpOhw6GvdU0jNvGcUw5ulNJ2Pmk2NT-oNQ/file# [following]\n",
            "--2023-08-03 16:40:47--  https://uc7724b573e59eac37eabe112d89.dl.dropboxusercontent.com/cd/0/inline/CBGWHQ0e53e31HQowCTbdn54Y7Ev71Dr4BYzkufkbWcWEeBRVkWDL82ZpaILwTXfG6PegOAZ4qF8G7Ay1Nt7ebXl_Bif2Y8eQ64KAVDY2TFUX6qZNo0SyXKpOhw6GvdU0jNvGcUw5ulNJ2Pmk2NT-oNQ/file\n",
            "Resolving uc7724b573e59eac37eabe112d89.dl.dropboxusercontent.com (uc7724b573e59eac37eabe112d89.dl.dropboxusercontent.com)... 162.125.6.15, 2620:100:601b:15::a27d:80f\n",
            "Connecting to uc7724b573e59eac37eabe112d89.dl.dropboxusercontent.com (uc7724b573e59eac37eabe112d89.dl.dropboxusercontent.com)|162.125.6.15|:443... connected.\n",
            "HTTP request sent, awaiting response... 200 OK\n",
            "Length: 131375993 (125M) [text/plain]\n",
            "Saving to: ‘Subscribers.csv?dl=0’\n",
            "\n",
            "Subscribers.csv?dl= 100%[===================>] 125.29M  92.5MB/s    in 1.4s    \n",
            "\n",
            "2023-08-03 16:40:48 (92.5 MB/s) - ‘Subscribers.csv?dl=0’ saved [131375993/131375993]\n",
            "\n"
          ]
        }
      ]
    },
    {
      "cell_type": "code",
      "source": [
        "data=pd.read_csv('Subscribers.csv?dl=0')"
      ],
      "metadata": {
        "id": "PjJkIopGUUv0"
      },
      "execution_count": null,
      "outputs": []
    },
    {
      "cell_type": "code",
      "source": [
        "data.head()"
      ],
      "metadata": {
        "colab": {
          "base_uri": "https://localhost:8080/",
          "height": 299
        },
        "id": "n9WoEGmMUgaC",
        "outputId": "410043c3-0470-4e8f-d45c-5ac11ed0504a"
      },
      "execution_count": null,
      "outputs": [
        {
          "output_type": "execute_result",
          "data": {
            "text/plain": [
              "         V1           V2          V3         V4          V5           V6  \\\n",
              "0 -0.211875    743952.92   743952.92   200000.0   743952.92   200000.000   \n",
              "1  0.241488  11295310.87  8034290.99    32000.0  8034290.99    18000.000   \n",
              "2  0.459032     20363.68   317922.94  1650000.0   317922.94  1650000.000   \n",
              "3  0.000000    856120.91   856120.91        0.0   856120.91    45554.885   \n",
              "4  8.270783    194485.64   412330.33   835000.0   412330.33   835000.000   \n",
              "\n",
              "          V7         V8          V9         V10  ...           V42       V43  \\\n",
              "0   200000.0  -0.069396   943952.92        0.00  ...  1.034232e+06   1966.57   \n",
              "1    14000.0   0.167411  7508345.76  1160925.13  ...  5.665658e+07  49957.65   \n",
              "2  1650000.0  46.068404  1655168.31        0.00  ...  2.654720e+04    453.96   \n",
              "3        0.0   0.000000   856120.91        0.00  ...  8.506973e+05   2045.09   \n",
              "4   835000.0  -0.272225     2241.64    78625.00  ...  5.572559e+04     70.01   \n",
              "\n",
              "        V44       V45       V46    V47           V48   V49       V50  \\\n",
              "0   1990.82   1752.89  100000.0  147.0   1826.046667  28.0   2557.22   \n",
              "1  11104.54  17711.99   38000.0   19.0  26467.683330  19.0  12807.07   \n",
              "2      9.64     58.83   45072.0    0.0    315.506667   0.0     32.12   \n",
              "3   2045.09   2011.19   45072.0   30.0   2045.090000  19.0   2029.79   \n",
              "4    100.60     89.59   31080.0    0.0    294.580000   0.0     26.95   \n",
              "\n",
              "   Subscribers  \n",
              "0            0  \n",
              "1            0  \n",
              "2            1  \n",
              "3            0  \n",
              "4            0  \n",
              "\n",
              "[5 rows x 51 columns]"
            ],
            "text/html": [
              "\n",
              "\n",
              "  <div id=\"df-1a0145f9-3bb9-4981-b0f0-b63784164ac9\">\n",
              "    <div class=\"colab-df-container\">\n",
              "      <div>\n",
              "<style scoped>\n",
              "    .dataframe tbody tr th:only-of-type {\n",
              "        vertical-align: middle;\n",
              "    }\n",
              "\n",
              "    .dataframe tbody tr th {\n",
              "        vertical-align: top;\n",
              "    }\n",
              "\n",
              "    .dataframe thead th {\n",
              "        text-align: right;\n",
              "    }\n",
              "</style>\n",
              "<table border=\"1\" class=\"dataframe\">\n",
              "  <thead>\n",
              "    <tr style=\"text-align: right;\">\n",
              "      <th></th>\n",
              "      <th>V1</th>\n",
              "      <th>V2</th>\n",
              "      <th>V3</th>\n",
              "      <th>V4</th>\n",
              "      <th>V5</th>\n",
              "      <th>V6</th>\n",
              "      <th>V7</th>\n",
              "      <th>V8</th>\n",
              "      <th>V9</th>\n",
              "      <th>V10</th>\n",
              "      <th>...</th>\n",
              "      <th>V42</th>\n",
              "      <th>V43</th>\n",
              "      <th>V44</th>\n",
              "      <th>V45</th>\n",
              "      <th>V46</th>\n",
              "      <th>V47</th>\n",
              "      <th>V48</th>\n",
              "      <th>V49</th>\n",
              "      <th>V50</th>\n",
              "      <th>Subscribers</th>\n",
              "    </tr>\n",
              "  </thead>\n",
              "  <tbody>\n",
              "    <tr>\n",
              "      <th>0</th>\n",
              "      <td>-0.211875</td>\n",
              "      <td>743952.92</td>\n",
              "      <td>743952.92</td>\n",
              "      <td>200000.0</td>\n",
              "      <td>743952.92</td>\n",
              "      <td>200000.000</td>\n",
              "      <td>200000.0</td>\n",
              "      <td>-0.069396</td>\n",
              "      <td>943952.92</td>\n",
              "      <td>0.00</td>\n",
              "      <td>...</td>\n",
              "      <td>1.034232e+06</td>\n",
              "      <td>1966.57</td>\n",
              "      <td>1990.82</td>\n",
              "      <td>1752.89</td>\n",
              "      <td>100000.0</td>\n",
              "      <td>147.0</td>\n",
              "      <td>1826.046667</td>\n",
              "      <td>28.0</td>\n",
              "      <td>2557.22</td>\n",
              "      <td>0</td>\n",
              "    </tr>\n",
              "    <tr>\n",
              "      <th>1</th>\n",
              "      <td>0.241488</td>\n",
              "      <td>11295310.87</td>\n",
              "      <td>8034290.99</td>\n",
              "      <td>32000.0</td>\n",
              "      <td>8034290.99</td>\n",
              "      <td>18000.000</td>\n",
              "      <td>14000.0</td>\n",
              "      <td>0.167411</td>\n",
              "      <td>7508345.76</td>\n",
              "      <td>1160925.13</td>\n",
              "      <td>...</td>\n",
              "      <td>5.665658e+07</td>\n",
              "      <td>49957.65</td>\n",
              "      <td>11104.54</td>\n",
              "      <td>17711.99</td>\n",
              "      <td>38000.0</td>\n",
              "      <td>19.0</td>\n",
              "      <td>26467.683330</td>\n",
              "      <td>19.0</td>\n",
              "      <td>12807.07</td>\n",
              "      <td>0</td>\n",
              "    </tr>\n",
              "    <tr>\n",
              "      <th>2</th>\n",
              "      <td>0.459032</td>\n",
              "      <td>20363.68</td>\n",
              "      <td>317922.94</td>\n",
              "      <td>1650000.0</td>\n",
              "      <td>317922.94</td>\n",
              "      <td>1650000.000</td>\n",
              "      <td>1650000.0</td>\n",
              "      <td>46.068404</td>\n",
              "      <td>1655168.31</td>\n",
              "      <td>0.00</td>\n",
              "      <td>...</td>\n",
              "      <td>2.654720e+04</td>\n",
              "      <td>453.96</td>\n",
              "      <td>9.64</td>\n",
              "      <td>58.83</td>\n",
              "      <td>45072.0</td>\n",
              "      <td>0.0</td>\n",
              "      <td>315.506667</td>\n",
              "      <td>0.0</td>\n",
              "      <td>32.12</td>\n",
              "      <td>1</td>\n",
              "    </tr>\n",
              "    <tr>\n",
              "      <th>3</th>\n",
              "      <td>0.000000</td>\n",
              "      <td>856120.91</td>\n",
              "      <td>856120.91</td>\n",
              "      <td>0.0</td>\n",
              "      <td>856120.91</td>\n",
              "      <td>45554.885</td>\n",
              "      <td>0.0</td>\n",
              "      <td>0.000000</td>\n",
              "      <td>856120.91</td>\n",
              "      <td>0.00</td>\n",
              "      <td>...</td>\n",
              "      <td>8.506973e+05</td>\n",
              "      <td>2045.09</td>\n",
              "      <td>2045.09</td>\n",
              "      <td>2011.19</td>\n",
              "      <td>45072.0</td>\n",
              "      <td>30.0</td>\n",
              "      <td>2045.090000</td>\n",
              "      <td>19.0</td>\n",
              "      <td>2029.79</td>\n",
              "      <td>0</td>\n",
              "    </tr>\n",
              "    <tr>\n",
              "      <th>4</th>\n",
              "      <td>8.270783</td>\n",
              "      <td>194485.64</td>\n",
              "      <td>412330.33</td>\n",
              "      <td>835000.0</td>\n",
              "      <td>412330.33</td>\n",
              "      <td>835000.000</td>\n",
              "      <td>835000.0</td>\n",
              "      <td>-0.272225</td>\n",
              "      <td>2241.64</td>\n",
              "      <td>78625.00</td>\n",
              "      <td>...</td>\n",
              "      <td>5.572559e+04</td>\n",
              "      <td>70.01</td>\n",
              "      <td>100.60</td>\n",
              "      <td>89.59</td>\n",
              "      <td>31080.0</td>\n",
              "      <td>0.0</td>\n",
              "      <td>294.580000</td>\n",
              "      <td>0.0</td>\n",
              "      <td>26.95</td>\n",
              "      <td>0</td>\n",
              "    </tr>\n",
              "  </tbody>\n",
              "</table>\n",
              "<p>5 rows × 51 columns</p>\n",
              "</div>\n",
              "      <button class=\"colab-df-convert\" onclick=\"convertToInteractive('df-1a0145f9-3bb9-4981-b0f0-b63784164ac9')\"\n",
              "              title=\"Convert this dataframe to an interactive table.\"\n",
              "              style=\"display:none;\">\n",
              "\n",
              "  <svg xmlns=\"http://www.w3.org/2000/svg\" height=\"24px\"viewBox=\"0 0 24 24\"\n",
              "       width=\"24px\">\n",
              "    <path d=\"M0 0h24v24H0V0z\" fill=\"none\"/>\n",
              "    <path d=\"M18.56 5.44l.94 2.06.94-2.06 2.06-.94-2.06-.94-.94-2.06-.94 2.06-2.06.94zm-11 1L8.5 8.5l.94-2.06 2.06-.94-2.06-.94L8.5 2.5l-.94 2.06-2.06.94zm10 10l.94 2.06.94-2.06 2.06-.94-2.06-.94-.94-2.06-.94 2.06-2.06.94z\"/><path d=\"M17.41 7.96l-1.37-1.37c-.4-.4-.92-.59-1.43-.59-.52 0-1.04.2-1.43.59L10.3 9.45l-7.72 7.72c-.78.78-.78 2.05 0 2.83L4 21.41c.39.39.9.59 1.41.59.51 0 1.02-.2 1.41-.59l7.78-7.78 2.81-2.81c.8-.78.8-2.07 0-2.86zM5.41 20L4 18.59l7.72-7.72 1.47 1.35L5.41 20z\"/>\n",
              "  </svg>\n",
              "      </button>\n",
              "\n",
              "\n",
              "\n",
              "    <div id=\"df-622b4b65-d10a-48b0-87b2-e59bb18f82c3\">\n",
              "      <button class=\"colab-df-quickchart\" onclick=\"quickchart('df-622b4b65-d10a-48b0-87b2-e59bb18f82c3')\"\n",
              "              title=\"Suggest charts.\"\n",
              "              style=\"display:none;\">\n",
              "\n",
              "<svg xmlns=\"http://www.w3.org/2000/svg\" height=\"24px\"viewBox=\"0 0 24 24\"\n",
              "     width=\"24px\">\n",
              "    <g>\n",
              "        <path d=\"M19 3H5c-1.1 0-2 .9-2 2v14c0 1.1.9 2 2 2h14c1.1 0 2-.9 2-2V5c0-1.1-.9-2-2-2zM9 17H7v-7h2v7zm4 0h-2V7h2v10zm4 0h-2v-4h2v4z\"/>\n",
              "    </g>\n",
              "</svg>\n",
              "      </button>\n",
              "    </div>\n",
              "\n",
              "<style>\n",
              "  .colab-df-quickchart {\n",
              "    background-color: #E8F0FE;\n",
              "    border: none;\n",
              "    border-radius: 50%;\n",
              "    cursor: pointer;\n",
              "    display: none;\n",
              "    fill: #1967D2;\n",
              "    height: 32px;\n",
              "    padding: 0 0 0 0;\n",
              "    width: 32px;\n",
              "  }\n",
              "\n",
              "  .colab-df-quickchart:hover {\n",
              "    background-color: #E2EBFA;\n",
              "    box-shadow: 0px 1px 2px rgba(60, 64, 67, 0.3), 0px 1px 3px 1px rgba(60, 64, 67, 0.15);\n",
              "    fill: #174EA6;\n",
              "  }\n",
              "\n",
              "  [theme=dark] .colab-df-quickchart {\n",
              "    background-color: #3B4455;\n",
              "    fill: #D2E3FC;\n",
              "  }\n",
              "\n",
              "  [theme=dark] .colab-df-quickchart:hover {\n",
              "    background-color: #434B5C;\n",
              "    box-shadow: 0px 1px 3px 1px rgba(0, 0, 0, 0.15);\n",
              "    filter: drop-shadow(0px 1px 2px rgba(0, 0, 0, 0.3));\n",
              "    fill: #FFFFFF;\n",
              "  }\n",
              "</style>\n",
              "\n",
              "    <script>\n",
              "      async function quickchart(key) {\n",
              "        const containerElement = document.querySelector('#' + key);\n",
              "        const charts = await google.colab.kernel.invokeFunction(\n",
              "            'suggestCharts', [key], {});\n",
              "      }\n",
              "    </script>\n",
              "\n",
              "      <script>\n",
              "\n",
              "function displayQuickchartButton(domScope) {\n",
              "  let quickchartButtonEl =\n",
              "    domScope.querySelector('#df-622b4b65-d10a-48b0-87b2-e59bb18f82c3 button.colab-df-quickchart');\n",
              "  quickchartButtonEl.style.display =\n",
              "    google.colab.kernel.accessAllowed ? 'block' : 'none';\n",
              "}\n",
              "\n",
              "        displayQuickchartButton(document);\n",
              "      </script>\n",
              "      <style>\n",
              "    .colab-df-container {\n",
              "      display:flex;\n",
              "      flex-wrap:wrap;\n",
              "      gap: 12px;\n",
              "    }\n",
              "\n",
              "    .colab-df-convert {\n",
              "      background-color: #E8F0FE;\n",
              "      border: none;\n",
              "      border-radius: 50%;\n",
              "      cursor: pointer;\n",
              "      display: none;\n",
              "      fill: #1967D2;\n",
              "      height: 32px;\n",
              "      padding: 0 0 0 0;\n",
              "      width: 32px;\n",
              "    }\n",
              "\n",
              "    .colab-df-convert:hover {\n",
              "      background-color: #E2EBFA;\n",
              "      box-shadow: 0px 1px 2px rgba(60, 64, 67, 0.3), 0px 1px 3px 1px rgba(60, 64, 67, 0.15);\n",
              "      fill: #174EA6;\n",
              "    }\n",
              "\n",
              "    [theme=dark] .colab-df-convert {\n",
              "      background-color: #3B4455;\n",
              "      fill: #D2E3FC;\n",
              "    }\n",
              "\n",
              "    [theme=dark] .colab-df-convert:hover {\n",
              "      background-color: #434B5C;\n",
              "      box-shadow: 0px 1px 3px 1px rgba(0, 0, 0, 0.15);\n",
              "      filter: drop-shadow(0px 1px 2px rgba(0, 0, 0, 0.3));\n",
              "      fill: #FFFFFF;\n",
              "    }\n",
              "  </style>\n",
              "\n",
              "      <script>\n",
              "        const buttonEl =\n",
              "          document.querySelector('#df-1a0145f9-3bb9-4981-b0f0-b63784164ac9 button.colab-df-convert');\n",
              "        buttonEl.style.display =\n",
              "          google.colab.kernel.accessAllowed ? 'block' : 'none';\n",
              "\n",
              "        async function convertToInteractive(key) {\n",
              "          const element = document.querySelector('#df-1a0145f9-3bb9-4981-b0f0-b63784164ac9');\n",
              "          const dataTable =\n",
              "            await google.colab.kernel.invokeFunction('convertToInteractive',\n",
              "                                                     [key], {});\n",
              "          if (!dataTable) return;\n",
              "\n",
              "          const docLinkHtml = 'Like what you see? Visit the ' +\n",
              "            '<a target=\"_blank\" href=https://colab.research.google.com/notebooks/data_table.ipynb>data table notebook</a>'\n",
              "            + ' to learn more about interactive tables.';\n",
              "          element.innerHTML = '';\n",
              "          dataTable['output_type'] = 'display_data';\n",
              "          await google.colab.output.renderOutput(dataTable, element);\n",
              "          const docLink = document.createElement('div');\n",
              "          docLink.innerHTML = docLinkHtml;\n",
              "          element.appendChild(docLink);\n",
              "        }\n",
              "      </script>\n",
              "    </div>\n",
              "  </div>\n"
            ]
          },
          "metadata": {},
          "execution_count": 4
        }
      ]
    },
    {
      "cell_type": "code",
      "source": [
        "data.shape"
      ],
      "metadata": {
        "colab": {
          "base_uri": "https://localhost:8080/"
        },
        "id": "K8cLGpZzUif4",
        "outputId": "bf3c36d1-a156-46fb-a8be-ef3d7de7adbf"
      },
      "execution_count": null,
      "outputs": [
        {
          "output_type": "execute_result",
          "data": {
            "text/plain": [
              "(300000, 51)"
            ]
          },
          "metadata": {},
          "execution_count": 5
        }
      ]
    },
    {
      "cell_type": "code",
      "source": [
        "y=pd.get_dummies(data['Subscribers'])"
      ],
      "metadata": {
        "id": "6ExGgYErUnVO"
      },
      "execution_count": null,
      "outputs": []
    },
    {
      "cell_type": "code",
      "source": [
        "y.head()"
      ],
      "metadata": {
        "colab": {
          "base_uri": "https://localhost:8080/",
          "height": 206
        },
        "id": "f9oqGmiyU2FL",
        "outputId": "a1fe5e9a-16e2-4099-c04b-7d6fa135abcc"
      },
      "execution_count": null,
      "outputs": [
        {
          "output_type": "execute_result",
          "data": {
            "text/plain": [
              "   0  1\n",
              "0  1  0\n",
              "1  1  0\n",
              "2  0  1\n",
              "3  1  0\n",
              "4  1  0"
            ],
            "text/html": [
              "\n",
              "\n",
              "  <div id=\"df-5e80275c-bd64-4a09-b020-d47a2b4d1a67\">\n",
              "    <div class=\"colab-df-container\">\n",
              "      <div>\n",
              "<style scoped>\n",
              "    .dataframe tbody tr th:only-of-type {\n",
              "        vertical-align: middle;\n",
              "    }\n",
              "\n",
              "    .dataframe tbody tr th {\n",
              "        vertical-align: top;\n",
              "    }\n",
              "\n",
              "    .dataframe thead th {\n",
              "        text-align: right;\n",
              "    }\n",
              "</style>\n",
              "<table border=\"1\" class=\"dataframe\">\n",
              "  <thead>\n",
              "    <tr style=\"text-align: right;\">\n",
              "      <th></th>\n",
              "      <th>0</th>\n",
              "      <th>1</th>\n",
              "    </tr>\n",
              "  </thead>\n",
              "  <tbody>\n",
              "    <tr>\n",
              "      <th>0</th>\n",
              "      <td>1</td>\n",
              "      <td>0</td>\n",
              "    </tr>\n",
              "    <tr>\n",
              "      <th>1</th>\n",
              "      <td>1</td>\n",
              "      <td>0</td>\n",
              "    </tr>\n",
              "    <tr>\n",
              "      <th>2</th>\n",
              "      <td>0</td>\n",
              "      <td>1</td>\n",
              "    </tr>\n",
              "    <tr>\n",
              "      <th>3</th>\n",
              "      <td>1</td>\n",
              "      <td>0</td>\n",
              "    </tr>\n",
              "    <tr>\n",
              "      <th>4</th>\n",
              "      <td>1</td>\n",
              "      <td>0</td>\n",
              "    </tr>\n",
              "  </tbody>\n",
              "</table>\n",
              "</div>\n",
              "      <button class=\"colab-df-convert\" onclick=\"convertToInteractive('df-5e80275c-bd64-4a09-b020-d47a2b4d1a67')\"\n",
              "              title=\"Convert this dataframe to an interactive table.\"\n",
              "              style=\"display:none;\">\n",
              "\n",
              "  <svg xmlns=\"http://www.w3.org/2000/svg\" height=\"24px\"viewBox=\"0 0 24 24\"\n",
              "       width=\"24px\">\n",
              "    <path d=\"M0 0h24v24H0V0z\" fill=\"none\"/>\n",
              "    <path d=\"M18.56 5.44l.94 2.06.94-2.06 2.06-.94-2.06-.94-.94-2.06-.94 2.06-2.06.94zm-11 1L8.5 8.5l.94-2.06 2.06-.94-2.06-.94L8.5 2.5l-.94 2.06-2.06.94zm10 10l.94 2.06.94-2.06 2.06-.94-2.06-.94-.94-2.06-.94 2.06-2.06.94z\"/><path d=\"M17.41 7.96l-1.37-1.37c-.4-.4-.92-.59-1.43-.59-.52 0-1.04.2-1.43.59L10.3 9.45l-7.72 7.72c-.78.78-.78 2.05 0 2.83L4 21.41c.39.39.9.59 1.41.59.51 0 1.02-.2 1.41-.59l7.78-7.78 2.81-2.81c.8-.78.8-2.07 0-2.86zM5.41 20L4 18.59l7.72-7.72 1.47 1.35L5.41 20z\"/>\n",
              "  </svg>\n",
              "      </button>\n",
              "\n",
              "\n",
              "\n",
              "    <div id=\"df-25fad86f-054f-4b77-be61-c54061af7e24\">\n",
              "      <button class=\"colab-df-quickchart\" onclick=\"quickchart('df-25fad86f-054f-4b77-be61-c54061af7e24')\"\n",
              "              title=\"Suggest charts.\"\n",
              "              style=\"display:none;\">\n",
              "\n",
              "<svg xmlns=\"http://www.w3.org/2000/svg\" height=\"24px\"viewBox=\"0 0 24 24\"\n",
              "     width=\"24px\">\n",
              "    <g>\n",
              "        <path d=\"M19 3H5c-1.1 0-2 .9-2 2v14c0 1.1.9 2 2 2h14c1.1 0 2-.9 2-2V5c0-1.1-.9-2-2-2zM9 17H7v-7h2v7zm4 0h-2V7h2v10zm4 0h-2v-4h2v4z\"/>\n",
              "    </g>\n",
              "</svg>\n",
              "      </button>\n",
              "    </div>\n",
              "\n",
              "<style>\n",
              "  .colab-df-quickchart {\n",
              "    background-color: #E8F0FE;\n",
              "    border: none;\n",
              "    border-radius: 50%;\n",
              "    cursor: pointer;\n",
              "    display: none;\n",
              "    fill: #1967D2;\n",
              "    height: 32px;\n",
              "    padding: 0 0 0 0;\n",
              "    width: 32px;\n",
              "  }\n",
              "\n",
              "  .colab-df-quickchart:hover {\n",
              "    background-color: #E2EBFA;\n",
              "    box-shadow: 0px 1px 2px rgba(60, 64, 67, 0.3), 0px 1px 3px 1px rgba(60, 64, 67, 0.15);\n",
              "    fill: #174EA6;\n",
              "  }\n",
              "\n",
              "  [theme=dark] .colab-df-quickchart {\n",
              "    background-color: #3B4455;\n",
              "    fill: #D2E3FC;\n",
              "  }\n",
              "\n",
              "  [theme=dark] .colab-df-quickchart:hover {\n",
              "    background-color: #434B5C;\n",
              "    box-shadow: 0px 1px 3px 1px rgba(0, 0, 0, 0.15);\n",
              "    filter: drop-shadow(0px 1px 2px rgba(0, 0, 0, 0.3));\n",
              "    fill: #FFFFFF;\n",
              "  }\n",
              "</style>\n",
              "\n",
              "    <script>\n",
              "      async function quickchart(key) {\n",
              "        const containerElement = document.querySelector('#' + key);\n",
              "        const charts = await google.colab.kernel.invokeFunction(\n",
              "            'suggestCharts', [key], {});\n",
              "      }\n",
              "    </script>\n",
              "\n",
              "      <script>\n",
              "\n",
              "function displayQuickchartButton(domScope) {\n",
              "  let quickchartButtonEl =\n",
              "    domScope.querySelector('#df-25fad86f-054f-4b77-be61-c54061af7e24 button.colab-df-quickchart');\n",
              "  quickchartButtonEl.style.display =\n",
              "    google.colab.kernel.accessAllowed ? 'block' : 'none';\n",
              "}\n",
              "\n",
              "        displayQuickchartButton(document);\n",
              "      </script>\n",
              "      <style>\n",
              "    .colab-df-container {\n",
              "      display:flex;\n",
              "      flex-wrap:wrap;\n",
              "      gap: 12px;\n",
              "    }\n",
              "\n",
              "    .colab-df-convert {\n",
              "      background-color: #E8F0FE;\n",
              "      border: none;\n",
              "      border-radius: 50%;\n",
              "      cursor: pointer;\n",
              "      display: none;\n",
              "      fill: #1967D2;\n",
              "      height: 32px;\n",
              "      padding: 0 0 0 0;\n",
              "      width: 32px;\n",
              "    }\n",
              "\n",
              "    .colab-df-convert:hover {\n",
              "      background-color: #E2EBFA;\n",
              "      box-shadow: 0px 1px 2px rgba(60, 64, 67, 0.3), 0px 1px 3px 1px rgba(60, 64, 67, 0.15);\n",
              "      fill: #174EA6;\n",
              "    }\n",
              "\n",
              "    [theme=dark] .colab-df-convert {\n",
              "      background-color: #3B4455;\n",
              "      fill: #D2E3FC;\n",
              "    }\n",
              "\n",
              "    [theme=dark] .colab-df-convert:hover {\n",
              "      background-color: #434B5C;\n",
              "      box-shadow: 0px 1px 3px 1px rgba(0, 0, 0, 0.15);\n",
              "      filter: drop-shadow(0px 1px 2px rgba(0, 0, 0, 0.3));\n",
              "      fill: #FFFFFF;\n",
              "    }\n",
              "  </style>\n",
              "\n",
              "      <script>\n",
              "        const buttonEl =\n",
              "          document.querySelector('#df-5e80275c-bd64-4a09-b020-d47a2b4d1a67 button.colab-df-convert');\n",
              "        buttonEl.style.display =\n",
              "          google.colab.kernel.accessAllowed ? 'block' : 'none';\n",
              "\n",
              "        async function convertToInteractive(key) {\n",
              "          const element = document.querySelector('#df-5e80275c-bd64-4a09-b020-d47a2b4d1a67');\n",
              "          const dataTable =\n",
              "            await google.colab.kernel.invokeFunction('convertToInteractive',\n",
              "                                                     [key], {});\n",
              "          if (!dataTable) return;\n",
              "\n",
              "          const docLinkHtml = 'Like what you see? Visit the ' +\n",
              "            '<a target=\"_blank\" href=https://colab.research.google.com/notebooks/data_table.ipynb>data table notebook</a>'\n",
              "            + ' to learn more about interactive tables.';\n",
              "          element.innerHTML = '';\n",
              "          dataTable['output_type'] = 'display_data';\n",
              "          await google.colab.output.renderOutput(dataTable, element);\n",
              "          const docLink = document.createElement('div');\n",
              "          docLink.innerHTML = docLinkHtml;\n",
              "          element.appendChild(docLink);\n",
              "        }\n",
              "      </script>\n",
              "    </div>\n",
              "  </div>\n"
            ]
          },
          "metadata": {},
          "execution_count": 7
        }
      ]
    },
    {
      "cell_type": "code",
      "source": [
        "x=data.drop(['Subscribers'],axis=1)"
      ],
      "metadata": {
        "id": "rsgYQeZzU3Tb"
      },
      "execution_count": null,
      "outputs": []
    },
    {
      "cell_type": "code",
      "source": [
        "x_train,x_test,y_train,y_test=train_test_split(x,y,test_size=0.2,\n",
        "                                               random_state=2)\n"
      ],
      "metadata": {
        "id": "qBV-IDYNVA6_"
      },
      "execution_count": null,
      "outputs": []
    },
    {
      "cell_type": "code",
      "source": [
        "x_train.reset_index(drop=True,inplace=True)\n",
        "y_train.reset_index(drop=True,inplace=True)\n",
        "\n",
        "# drop is set to True to prevent using old index as a column"
      ],
      "metadata": {
        "id": "dDOhNSB9VQxy"
      },
      "execution_count": null,
      "outputs": []
    },
    {
      "cell_type": "code",
      "source": [
        "st=StandardScaler()"
      ],
      "metadata": {
        "id": "bElibBebWiOL"
      },
      "execution_count": null,
      "outputs": []
    },
    {
      "cell_type": "code",
      "source": [
        "st.fit(x_train)"
      ],
      "metadata": {
        "colab": {
          "base_uri": "https://localhost:8080/",
          "height": 74
        },
        "id": "2yrTk7plWsxB",
        "outputId": "8410c060-0348-48a8-b040-979fb4fc35b7"
      },
      "execution_count": null,
      "outputs": [
        {
          "output_type": "execute_result",
          "data": {
            "text/plain": [
              "StandardScaler()"
            ],
            "text/html": [
              "<style>#sk-container-id-1 {color: black;background-color: white;}#sk-container-id-1 pre{padding: 0;}#sk-container-id-1 div.sk-toggleable {background-color: white;}#sk-container-id-1 label.sk-toggleable__label {cursor: pointer;display: block;width: 100%;margin-bottom: 0;padding: 0.3em;box-sizing: border-box;text-align: center;}#sk-container-id-1 label.sk-toggleable__label-arrow:before {content: \"▸\";float: left;margin-right: 0.25em;color: #696969;}#sk-container-id-1 label.sk-toggleable__label-arrow:hover:before {color: black;}#sk-container-id-1 div.sk-estimator:hover label.sk-toggleable__label-arrow:before {color: black;}#sk-container-id-1 div.sk-toggleable__content {max-height: 0;max-width: 0;overflow: hidden;text-align: left;background-color: #f0f8ff;}#sk-container-id-1 div.sk-toggleable__content pre {margin: 0.2em;color: black;border-radius: 0.25em;background-color: #f0f8ff;}#sk-container-id-1 input.sk-toggleable__control:checked~div.sk-toggleable__content {max-height: 200px;max-width: 100%;overflow: auto;}#sk-container-id-1 input.sk-toggleable__control:checked~label.sk-toggleable__label-arrow:before {content: \"▾\";}#sk-container-id-1 div.sk-estimator input.sk-toggleable__control:checked~label.sk-toggleable__label {background-color: #d4ebff;}#sk-container-id-1 div.sk-label input.sk-toggleable__control:checked~label.sk-toggleable__label {background-color: #d4ebff;}#sk-container-id-1 input.sk-hidden--visually {border: 0;clip: rect(1px 1px 1px 1px);clip: rect(1px, 1px, 1px, 1px);height: 1px;margin: -1px;overflow: hidden;padding: 0;position: absolute;width: 1px;}#sk-container-id-1 div.sk-estimator {font-family: monospace;background-color: #f0f8ff;border: 1px dotted black;border-radius: 0.25em;box-sizing: border-box;margin-bottom: 0.5em;}#sk-container-id-1 div.sk-estimator:hover {background-color: #d4ebff;}#sk-container-id-1 div.sk-parallel-item::after {content: \"\";width: 100%;border-bottom: 1px solid gray;flex-grow: 1;}#sk-container-id-1 div.sk-label:hover label.sk-toggleable__label {background-color: #d4ebff;}#sk-container-id-1 div.sk-serial::before {content: \"\";position: absolute;border-left: 1px solid gray;box-sizing: border-box;top: 0;bottom: 0;left: 50%;z-index: 0;}#sk-container-id-1 div.sk-serial {display: flex;flex-direction: column;align-items: center;background-color: white;padding-right: 0.2em;padding-left: 0.2em;position: relative;}#sk-container-id-1 div.sk-item {position: relative;z-index: 1;}#sk-container-id-1 div.sk-parallel {display: flex;align-items: stretch;justify-content: center;background-color: white;position: relative;}#sk-container-id-1 div.sk-item::before, #sk-container-id-1 div.sk-parallel-item::before {content: \"\";position: absolute;border-left: 1px solid gray;box-sizing: border-box;top: 0;bottom: 0;left: 50%;z-index: -1;}#sk-container-id-1 div.sk-parallel-item {display: flex;flex-direction: column;z-index: 1;position: relative;background-color: white;}#sk-container-id-1 div.sk-parallel-item:first-child::after {align-self: flex-end;width: 50%;}#sk-container-id-1 div.sk-parallel-item:last-child::after {align-self: flex-start;width: 50%;}#sk-container-id-1 div.sk-parallel-item:only-child::after {width: 0;}#sk-container-id-1 div.sk-dashed-wrapped {border: 1px dashed gray;margin: 0 0.4em 0.5em 0.4em;box-sizing: border-box;padding-bottom: 0.4em;background-color: white;}#sk-container-id-1 div.sk-label label {font-family: monospace;font-weight: bold;display: inline-block;line-height: 1.2em;}#sk-container-id-1 div.sk-label-container {text-align: center;}#sk-container-id-1 div.sk-container {/* jupyter's `normalize.less` sets `[hidden] { display: none; }` but bootstrap.min.css set `[hidden] { display: none !important; }` so we also need the `!important` here to be able to override the default hidden behavior on the sphinx rendered scikit-learn.org. See: https://github.com/scikit-learn/scikit-learn/issues/21755 */display: inline-block !important;position: relative;}#sk-container-id-1 div.sk-text-repr-fallback {display: none;}</style><div id=\"sk-container-id-1\" class=\"sk-top-container\"><div class=\"sk-text-repr-fallback\"><pre>StandardScaler()</pre><b>In a Jupyter environment, please rerun this cell to show the HTML representation or trust the notebook. <br />On GitHub, the HTML representation is unable to render, please try loading this page with nbviewer.org.</b></div><div class=\"sk-container\" hidden><div class=\"sk-item\"><div class=\"sk-estimator sk-toggleable\"><input class=\"sk-toggleable__control sk-hidden--visually\" id=\"sk-estimator-id-1\" type=\"checkbox\" checked><label for=\"sk-estimator-id-1\" class=\"sk-toggleable__label sk-toggleable__label-arrow\">StandardScaler</label><div class=\"sk-toggleable__content\"><pre>StandardScaler()</pre></div></div></div></div></div>"
            ]
          },
          "metadata": {},
          "execution_count": 12
        }
      ]
    },
    {
      "cell_type": "markdown",
      "source": [
        "#Simple Logistic Regression"
      ],
      "metadata": {
        "id": "_dyeeDNrXdQI"
      }
    },
    {
      "cell_type": "code",
      "source": [
        "weights=tf.Variable(tf.random.normal(shape=(50,2),dtype=tf.float64))\n",
        "biases=tf.Variable(tf.random.normal(shape=(2,),dtype=tf.float64))"
      ],
      "metadata": {
        "id": "4dxWYAcntRGk"
      },
      "execution_count": null,
      "outputs": []
    },
    {
      "cell_type": "code",
      "source": [
        "def logistic_regression(x):\n",
        "  lr=tf.add(tf.matmul(x,weights),biases)\n",
        "  return lr\n",
        "\n",
        "def cross_entropy(y_true,y_pred):\n",
        "  loss=tf.nn.softmax_cross_entropy_with_logits(labels=y_true,logits=y_pred)\n",
        "  return tf.reduce_mean(loss)\n",
        "\n",
        "def accuracy(y_true,y_pred):\n",
        "  y_true=tf.cast(tf.argmax(y_true,axis=1),dtype=tf.int32)\n",
        "  preds=tf.cast(tf.argmax(y_pred,axis=1),dtype=tf.int32)\n",
        "  preds=tf.equal(y_true,preds)\n",
        "  return tf.reduce_mean(tf.cast(preds,dtype=tf.float32))\n",
        "\n",
        "def roc_auc(y_true,x):\n",
        "  y_true=tf.cast(tf.argmax(y_true,axis=1),dtype=tf.int32).numpy()\n",
        "  y_pred=tf.nn.softmax(logistic_regression(x))[:,1]\n",
        "  return (roc_auc_score(y_true,y_pred))\n",
        "\n",
        "def grad(x,y):\n",
        "  with tf.GradientTape() as tape:\n",
        "    y_pred=logistic_regression(x)\n",
        "    loss_val=cross_entropy(y,y_pred)\n",
        "  return tape.gradient(loss_val,[weights,biases])\n"
      ],
      "metadata": {
        "id": "5NBbrP60Wv-N"
      },
      "execution_count": null,
      "outputs": []
    },
    {
      "cell_type": "code",
      "source": [
        "steps=2000"
      ],
      "metadata": {
        "id": "MwUIZOfirpwg"
      },
      "execution_count": null,
      "outputs": []
    },
    {
      "cell_type": "code",
      "source": [
        "y_true=tf.cast(tf.argmax(y_test.values,axis=1),dtype=tf.int32)"
      ],
      "metadata": {
        "id": "zkatiIzYTha4"
      },
      "execution_count": null,
      "outputs": []
    },
    {
      "cell_type": "code",
      "source": [
        "preds=tf.cast(tf.argmax(logistic_regression(x_test.values),axis=1),dtype=tf.int32)"
      ],
      "metadata": {
        "id": "mkQvN5WjTsw0"
      },
      "execution_count": null,
      "outputs": []
    },
    {
      "cell_type": "code",
      "source": [
        "tf.reduce_mean(tf.cast(tf.equal(y_true,preds),dtype=tf.float32))"
      ],
      "metadata": {
        "colab": {
          "base_uri": "https://localhost:8080/"
        },
        "id": "698SDJltUAZQ",
        "outputId": "921aab65-6862-4404-e363-99539a2f7cb3"
      },
      "execution_count": null,
      "outputs": [
        {
          "output_type": "execute_result",
          "data": {
            "text/plain": [
              "<tf.Tensor: shape=(), dtype=float32, numpy=0.8263>"
            ]
          },
          "metadata": {},
          "execution_count": 18
        }
      ]
    },
    {
      "cell_type": "code",
      "source": [
        "learning_rate=0.01\n",
        "\n",
        "for step in range(steps):\n",
        "  rand_ind=np.random.choice(range(x_train.shape[0]),100)\n",
        "  outputs=y_train.iloc[rand_ind,:].values\n",
        "  inputs=x_train.iloc[rand_ind,:].values\n",
        "\n",
        "  dw,db=grad(inputs,tf.cast(outputs,'float32'))\n",
        "\n",
        "  weights.assign_sub(learning_rate*dw)\n",
        "  biases.assign_sub(learning_rate*db)\n",
        "\n",
        "  if step%50==0:\n",
        "    print(accuracy(y_test.values,logistic_regression(x_test.values)).numpy(),roc_auc(y_test.values,x_test.values))"
      ],
      "metadata": {
        "colab": {
          "base_uri": "https://localhost:8080/"
        },
        "id": "1MuL_d2yUNLW",
        "outputId": "3cfed92c-d81a-43cb-b843-bd1cf7e55668"
      },
      "execution_count": null,
      "outputs": [
        {
          "output_type": "stream",
          "name": "stdout",
          "text": [
            "0.17165 0.5000100599573458\n",
            "0.82475 0.5420841229849539\n",
            "0.82888335 0.5033528182991018\n",
            "0.8257 0.6298060542601236\n",
            "0.8354667 0.5385444540195631\n",
            "0.8279167 0.5167038646077369\n",
            "0.82608336 0.6508622327115833\n",
            "0.6928667 0.6865868566557635\n",
            "0.82783335 0.5067993159213375\n",
            "0.49551666 0.5246240149066647\n",
            "0.80366665 0.6481096748155226\n",
            "0.7474667 0.7029527250621121\n",
            "0.82891667 0.5027185544977998\n",
            "0.8211167 0.7507950746323794\n",
            "0.85765 0.6855825079485777\n",
            "0.8306 0.5393407829717358\n",
            "0.84173334 0.6163878373681623\n",
            "0.85683334 0.6254251724039112\n",
            "0.855 0.6547666664694662\n",
            "0.8358333 0.5350704297437939\n",
            "0.8379833 0.7056610808849565\n",
            "0.7535833 0.631198136269912\n",
            "0.594 0.6481209207107416\n",
            "0.84041667 0.6413835177799517\n",
            "0.8042667 0.6655627962153366\n",
            "0.84206665 0.7127449496063932\n",
            "0.83206666 0.5300253718806152\n",
            "0.82905 0.6697438680544983\n",
            "0.8282833 0.4999497002132711\n",
            "0.82795 0.5035593238830249\n",
            "0.8276167 0.5163303195766911\n",
            "0.82413334 0.5486406733207407\n",
            "0.77713335 0.5897517469802681\n",
            "0.56255 0.5278237846995164\n",
            "0.7449167 0.6111085987810716\n",
            "0.68883336 0.594694243685764\n",
            "0.70633334 0.6086830901178599\n",
            "0.7305667 0.617690266773032\n",
            "0.8268667 0.6107247671554588\n",
            "0.78185 0.6270885860579706\n"
          ]
        }
      ]
    },
    {
      "cell_type": "markdown",
      "source": [
        "# Classifier with a hidden layer"
      ],
      "metadata": {
        "id": "NfCh29lyWGWX"
      }
    },
    {
      "cell_type": "code",
      "source": [
        "weights_h=tf.Variable(tf.random.truncated_normal(shape=(50,20),dtype=tf.float64))\n",
        "biases_h=tf.Variable(tf.random.truncated_normal(shape=(20,),dtype=tf.float64))\n",
        "\n",
        "weights_o=tf.Variable(tf.random.truncated_normal(shape=(20,2),dtype=tf.float64))\n",
        "biases_o=tf.Variable(tf.random.truncated_normal(shape=(2,),dtype=tf.float64))"
      ],
      "metadata": {
        "id": "hiaeQYllWMd_"
      },
      "execution_count": null,
      "outputs": []
    },
    {
      "cell_type": "code",
      "source": [
        "def logistic_regression(x):\n",
        "  h_o=tf.add(tf.matmul(x,weights_h),biases_h)\n",
        "  h_o=tf.nn.relu(h_o)\n",
        "  lr=tf.add(tf.matmul(h_o,weights_o),biases_o)\n",
        "  return lr\n",
        "\n",
        "def cross_entropy(y_true,y_pred):\n",
        "  loss=tf.nn.softmax_cross_entropy_with_logits(labels=y_true,logits=y_pred)\n",
        "  return tf.reduce_mean(loss)\n",
        "\n",
        "def accuracy(y_true,y_pred):\n",
        "  y_true=tf.cast(tf.argmax(y_true,axis=1),dtype=tf.int32)\n",
        "  preds=tf.cast(tf.argmax(y_pred,axis=1),dtype=tf.int32)\n",
        "  preds=tf.equal(y_true,preds)\n",
        "  return tf.reduce_mean(tf.cast(preds,dtype=tf.float32))\n",
        "\n",
        "def roc_auc(y_true,x):\n",
        "  y_true=tf.cast(tf.argmax(y_true,axis=1),dtype=tf.int32).numpy()\n",
        "  y_pred=tf.nn.softmax(logistic_regression(x))[:,1]\n",
        "  return (roc_auc_score(y_true,y_pred))\n",
        "\n",
        "def grad(x,y):\n",
        "  with tf.GradientTape() as tape:\n",
        "    y_pred=logistic_regression(x)\n",
        "    loss_val=cross_entropy(y,y_pred)\n",
        "  return tape.gradient(loss_val,[weights_h,biases_h,weights_o,biases_o])\n"
      ],
      "metadata": {
        "id": "rf_gGA2uYD6b"
      },
      "execution_count": null,
      "outputs": []
    },
    {
      "cell_type": "code",
      "source": [
        "steps=2000"
      ],
      "metadata": {
        "id": "TL59c0FWYhPM"
      },
      "execution_count": null,
      "outputs": []
    },
    {
      "cell_type": "code",
      "source": [
        "learning_rate=0.01\n",
        "\n",
        "for step in range(steps):\n",
        "  rand_ind=np.random.choice(range(x_train.shape[0]),100)\n",
        "  outputs=y_train.iloc[rand_ind,:].values\n",
        "  inputs=x_train.iloc[rand_ind,:].values\n",
        "\n",
        "  dw_h,db_h,dw_o,db_o=grad(inputs,tf.cast(outputs,'float32'))\n",
        "\n",
        "  weights_h.assign_sub(learning_rate*dw_h)\n",
        "  biases_h.assign_sub(learning_rate*db_h)\n",
        "  weights_o.assign_sub(learning_rate*dw_o)\n",
        "  biases_o.assign_sub(learning_rate*db_o)\n",
        "\n",
        "  if step%50==0:\n",
        "    print(accuracy(y_test.values,logistic_regression(x_test.values)).numpy(),roc_auc(y_test.values,x_test.values))"
      ],
      "metadata": {
        "colab": {
          "base_uri": "https://localhost:8080/"
        },
        "id": "mPNkm7LPZG0e",
        "outputId": "ffc9a090-354c-4e03-d1ea-49bb202a172a"
      },
      "execution_count": null,
      "outputs": [
        {
          "output_type": "stream",
          "name": "stdout",
          "text": [
            "0.17163333 0.5\n",
            "0.17163333 0.500008313287727\n",
            "0.17163333 0.5000284332024185\n",
            "0.17163333 0.5000284332024185\n",
            "0.8283333 0.5000183732450728\n",
            "0.8283333 0.5000183732450728\n",
            "0.8283333 0.5000183732450728\n",
            "0.82835 0.5000284332024185\n",
            "0.82835 0.5000384921828798\n",
            "0.82835 0.5000384921828798\n",
            "0.82835 0.5000384921828798\n",
            "0.82835 0.5000384921828798\n",
            "0.82836664 0.4999632535098545\n",
            "0.8283167 0.500008313287727\n",
            "0.8283167 0.500008313287727\n",
            "0.8283167 0.500008313287727\n",
            "0.82836664 0.4999715667975815\n",
            "0.82836664 0.4999715667975815\n",
            "0.82836664 0.4999715667975815\n",
            "0.82836664 0.4999715667975815\n",
            "0.82836664 0.4999715667975815\n",
            "0.82836664 0.4999715667975815\n",
            "0.82836664 0.4999715667975815\n",
            "0.82836664 0.4999715667975815\n",
            "0.82836664 0.4999715667975815\n",
            "0.82836664 0.4999715667975815\n",
            "0.82836664 0.4999715667975815\n",
            "0.82836664 0.4999715667975815\n",
            "0.82836664 0.4999715667975815\n",
            "0.82836664 0.4999715667975815\n",
            "0.82836664 0.4999715667975815\n",
            "0.82836664 0.4999715667975815\n",
            "0.82836664 0.4999715667975815\n",
            "0.82836664 0.4999715667975815\n",
            "0.82836664 0.4999715667975815\n",
            "0.82836664 0.4999715667975815\n",
            "0.82836664 0.4999715667975815\n",
            "0.82836664 0.4999715667975815\n",
            "0.82836664 0.4999715667975815\n",
            "0.82836664 0.4999715667975815\n"
          ]
        }
      ]
    },
    {
      "cell_type": "code",
      "source": [],
      "metadata": {
        "id": "kzqQ7Gkbbmbk"
      },
      "execution_count": null,
      "outputs": []
    }
  ]
}
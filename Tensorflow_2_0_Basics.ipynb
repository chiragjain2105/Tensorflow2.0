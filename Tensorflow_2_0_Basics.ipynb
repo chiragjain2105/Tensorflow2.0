{
  "nbformat": 4,
  "nbformat_minor": 0,
  "metadata": {
    "colab": {
      "provenance": [],
      "gpuType": "T4"
    },
    "kernelspec": {
      "name": "python3",
      "display_name": "Python 3"
    },
    "language_info": {
      "name": "python"
    },
    "accelerator": "GPU"
  },
  "cells": [
    {
      "cell_type": "code",
      "source": [
        "import tensorflow as tf"
      ],
      "metadata": {
        "id": "G_bzuwN1Ukdz"
      },
      "execution_count": null,
      "outputs": []
    },
    {
      "cell_type": "code",
      "source": [
        "tf.__version__"
      ],
      "metadata": {
        "colab": {
          "base_uri": "https://localhost:8080/",
          "height": 35
        },
        "id": "x55JqRngWv2u",
        "outputId": "b1241cf7-c068-49ec-9772-af908e6a5b4c"
      },
      "execution_count": null,
      "outputs": [
        {
          "output_type": "execute_result",
          "data": {
            "text/plain": [
              "'2.12.0'"
            ],
            "application/vnd.google.colaboratory.intrinsic+json": {
              "type": "string"
            }
          },
          "metadata": {},
          "execution_count": 2
        }
      ]
    },
    {
      "cell_type": "code",
      "source": [
        "a=tf.constant(4)"
      ],
      "metadata": {
        "id": "M5ZpxY1JW01a"
      },
      "execution_count": null,
      "outputs": []
    },
    {
      "cell_type": "code",
      "source": [
        "b=tf.Variable(2)"
      ],
      "metadata": {
        "id": "qKCghXCqW318"
      },
      "execution_count": null,
      "outputs": []
    },
    {
      "cell_type": "code",
      "source": [
        "a"
      ],
      "metadata": {
        "colab": {
          "base_uri": "https://localhost:8080/"
        },
        "id": "aMoRF9euW7h1",
        "outputId": "50d9049f-3953-46e6-c28e-dcb698d4e68b"
      },
      "execution_count": null,
      "outputs": [
        {
          "output_type": "execute_result",
          "data": {
            "text/plain": [
              "<tf.Tensor: shape=(), dtype=int32, numpy=4>"
            ]
          },
          "metadata": {},
          "execution_count": 5
        }
      ]
    },
    {
      "cell_type": "code",
      "source": [
        "b"
      ],
      "metadata": {
        "colab": {
          "base_uri": "https://localhost:8080/"
        },
        "id": "E2bOrL8rXABr",
        "outputId": "540c3838-1a5d-489d-e4c5-e3e9f0ff1e2e"
      },
      "execution_count": null,
      "outputs": [
        {
          "output_type": "execute_result",
          "data": {
            "text/plain": [
              "<tf.Variable 'Variable:0' shape=() dtype=int32, numpy=2>"
            ]
          },
          "metadata": {},
          "execution_count": 6
        }
      ]
    },
    {
      "cell_type": "code",
      "source": [
        "a-b"
      ],
      "metadata": {
        "colab": {
          "base_uri": "https://localhost:8080/"
        },
        "id": "f7FtTeZwXCIV",
        "outputId": "6ab43da6-f871-439f-c179-050d998c70ff"
      },
      "execution_count": null,
      "outputs": [
        {
          "output_type": "execute_result",
          "data": {
            "text/plain": [
              "<tf.Tensor: shape=(), dtype=int32, numpy=2>"
            ]
          },
          "metadata": {},
          "execution_count": 7
        }
      ]
    },
    {
      "cell_type": "code",
      "source": [
        "c=a+b"
      ],
      "metadata": {
        "id": "7eSOLKDUXJ7y"
      },
      "execution_count": null,
      "outputs": []
    },
    {
      "cell_type": "code",
      "source": [
        "b=b+2"
      ],
      "metadata": {
        "id": "0HXGTBMmXR0H"
      },
      "execution_count": null,
      "outputs": []
    },
    {
      "cell_type": "code",
      "source": [
        "b"
      ],
      "metadata": {
        "colab": {
          "base_uri": "https://localhost:8080/"
        },
        "id": "NDS07S9dXTAk",
        "outputId": "72d03631-2a62-4f7b-a4ae-b65baf8134f4"
      },
      "execution_count": null,
      "outputs": [
        {
          "output_type": "execute_result",
          "data": {
            "text/plain": [
              "<tf.Tensor: shape=(), dtype=int32, numpy=4>"
            ]
          },
          "metadata": {},
          "execution_count": 10
        }
      ]
    },
    {
      "cell_type": "code",
      "source": [
        "b=tf.Variable(2)"
      ],
      "metadata": {
        "id": "_O7uzV0FXTj_"
      },
      "execution_count": null,
      "outputs": []
    },
    {
      "cell_type": "code",
      "source": [
        "b"
      ],
      "metadata": {
        "colab": {
          "base_uri": "https://localhost:8080/"
        },
        "id": "gNbv_euKX2jk",
        "outputId": "3a7624f3-eb78-465d-d170-1468ff3d0e6e"
      },
      "execution_count": null,
      "outputs": [
        {
          "output_type": "execute_result",
          "data": {
            "text/plain": [
              "<tf.Variable 'Variable:0' shape=() dtype=int32, numpy=2>"
            ]
          },
          "metadata": {},
          "execution_count": 12
        }
      ]
    },
    {
      "cell_type": "code",
      "source": [
        "b.assign(10)"
      ],
      "metadata": {
        "colab": {
          "base_uri": "https://localhost:8080/"
        },
        "id": "7_HqjiYaX4fV",
        "outputId": "c08c6e41-761e-4334-dc22-eb8360e1b960"
      },
      "execution_count": null,
      "outputs": [
        {
          "output_type": "execute_result",
          "data": {
            "text/plain": [
              "<tf.Variable 'UnreadVariable' shape=() dtype=int32, numpy=10>"
            ]
          },
          "metadata": {},
          "execution_count": 13
        }
      ]
    },
    {
      "cell_type": "code",
      "source": [
        "b"
      ],
      "metadata": {
        "colab": {
          "base_uri": "https://localhost:8080/"
        },
        "id": "PSGBnri6X7QR",
        "outputId": "b9daa82b-afc5-4c35-cbdb-0f21d62c6cd8"
      },
      "execution_count": null,
      "outputs": [
        {
          "output_type": "execute_result",
          "data": {
            "text/plain": [
              "<tf.Variable 'Variable:0' shape=() dtype=int32, numpy=10>"
            ]
          },
          "metadata": {},
          "execution_count": 14
        }
      ]
    },
    {
      "cell_type": "code",
      "source": [
        "b.assign_add(2)"
      ],
      "metadata": {
        "colab": {
          "base_uri": "https://localhost:8080/"
        },
        "id": "OU-qQLh3X9rB",
        "outputId": "e0d8f82b-dbdf-4148-ff37-83c3eb4d120e"
      },
      "execution_count": null,
      "outputs": [
        {
          "output_type": "execute_result",
          "data": {
            "text/plain": [
              "<tf.Variable 'UnreadVariable' shape=() dtype=int32, numpy=12>"
            ]
          },
          "metadata": {},
          "execution_count": 15
        }
      ]
    },
    {
      "cell_type": "code",
      "source": [
        "b.assign_sub(4)"
      ],
      "metadata": {
        "colab": {
          "base_uri": "https://localhost:8080/"
        },
        "id": "8X8OXAanYBZm",
        "outputId": "fed543cf-7a9e-4822-ae98-99a14ef7fde0"
      },
      "execution_count": null,
      "outputs": [
        {
          "output_type": "execute_result",
          "data": {
            "text/plain": [
              "<tf.Variable 'UnreadVariable' shape=() dtype=int32, numpy=8>"
            ]
          },
          "metadata": {},
          "execution_count": 16
        }
      ]
    },
    {
      "cell_type": "code",
      "source": [
        "b"
      ],
      "metadata": {
        "colab": {
          "base_uri": "https://localhost:8080/"
        },
        "id": "UUvNx6zdYMvF",
        "outputId": "543c8151-5760-44de-b1f5-be5476527d5f"
      },
      "execution_count": null,
      "outputs": [
        {
          "output_type": "execute_result",
          "data": {
            "text/plain": [
              "<tf.Variable 'Variable:0' shape=() dtype=int32, numpy=8>"
            ]
          },
          "metadata": {},
          "execution_count": 17
        }
      ]
    },
    {
      "cell_type": "code",
      "source": [
        "a.numpy(),b.numpy()"
      ],
      "metadata": {
        "colab": {
          "base_uri": "https://localhost:8080/"
        },
        "id": "gp2_-JesYpKj",
        "outputId": "7b1572bc-f7bc-44c2-8c83-45f92ccf32c7"
      },
      "execution_count": null,
      "outputs": [
        {
          "output_type": "execute_result",
          "data": {
            "text/plain": [
              "(4, 8)"
            ]
          },
          "metadata": {},
          "execution_count": 18
        }
      ]
    },
    {
      "cell_type": "code",
      "source": [
        "a=tf.constant([1,2,3,4,5,6],shape=[2,3])"
      ],
      "metadata": {
        "id": "BqETKAAzYtEa"
      },
      "execution_count": null,
      "outputs": []
    },
    {
      "cell_type": "code",
      "source": [
        "a"
      ],
      "metadata": {
        "colab": {
          "base_uri": "https://localhost:8080/"
        },
        "id": "RxxVRJYEY7UO",
        "outputId": "cb63b883-e577-4c81-a345-9f219c43f03a"
      },
      "execution_count": null,
      "outputs": [
        {
          "output_type": "execute_result",
          "data": {
            "text/plain": [
              "<tf.Tensor: shape=(2, 3), dtype=int32, numpy=\n",
              "array([[1, 2, 3],\n",
              "       [4, 5, 6]], dtype=int32)>"
            ]
          },
          "metadata": {},
          "execution_count": 20
        }
      ]
    },
    {
      "cell_type": "code",
      "source": [
        "b=tf.constant([7,8,9,10,11,12],shape=[3,2])"
      ],
      "metadata": {
        "id": "DfTZnBKeY8ch"
      },
      "execution_count": null,
      "outputs": []
    },
    {
      "cell_type": "code",
      "source": [
        "b"
      ],
      "metadata": {
        "colab": {
          "base_uri": "https://localhost:8080/"
        },
        "id": "ydXEOpSyZFpm",
        "outputId": "b69e7393-79bf-411b-969c-1134337ca447"
      },
      "execution_count": null,
      "outputs": [
        {
          "output_type": "execute_result",
          "data": {
            "text/plain": [
              "<tf.Tensor: shape=(3, 2), dtype=int32, numpy=\n",
              "array([[ 7,  8],\n",
              "       [ 9, 10],\n",
              "       [11, 12]], dtype=int32)>"
            ]
          },
          "metadata": {},
          "execution_count": 22
        }
      ]
    },
    {
      "cell_type": "code",
      "source": [
        "a@b"
      ],
      "metadata": {
        "colab": {
          "base_uri": "https://localhost:8080/"
        },
        "id": "o8RbUUCyZGcg",
        "outputId": "45d984df-887c-493b-f5da-9c4663795745"
      },
      "execution_count": null,
      "outputs": [
        {
          "output_type": "execute_result",
          "data": {
            "text/plain": [
              "<tf.Tensor: shape=(2, 2), dtype=int32, numpy=\n",
              "array([[ 58,  64],\n",
              "       [139, 154]], dtype=int32)>"
            ]
          },
          "metadata": {},
          "execution_count": 23
        }
      ]
    },
    {
      "cell_type": "code",
      "source": [
        "tf.matmul(a,b)"
      ],
      "metadata": {
        "colab": {
          "base_uri": "https://localhost:8080/"
        },
        "id": "Z24fAVcLZWob",
        "outputId": "cd865a26-59d1-4c02-a200-14802bbbd0bd"
      },
      "execution_count": null,
      "outputs": [
        {
          "output_type": "execute_result",
          "data": {
            "text/plain": [
              "<tf.Tensor: shape=(2, 2), dtype=int32, numpy=\n",
              "array([[ 58,  64],\n",
              "       [139, 154]], dtype=int32)>"
            ]
          },
          "metadata": {},
          "execution_count": 24
        }
      ]
    },
    {
      "cell_type": "code",
      "source": [
        "b=tf.constant([7,8,9,10,11,12],shape=[2,3])"
      ],
      "metadata": {
        "id": "jN4rKZfeZrz8"
      },
      "execution_count": null,
      "outputs": []
    },
    {
      "cell_type": "code",
      "source": [
        "a@b"
      ],
      "metadata": {
        "colab": {
          "base_uri": "https://localhost:8080/",
          "height": 329
        },
        "id": "FeEpPfT-aBrS",
        "outputId": "e6b69af8-9f18-4d8a-8e95-c6b038561163"
      },
      "execution_count": null,
      "outputs": [
        {
          "output_type": "error",
          "ename": "InvalidArgumentError",
          "evalue": "ignored",
          "traceback": [
            "\u001b[0;31m---------------------------------------------------------------------------\u001b[0m",
            "\u001b[0;31mInvalidArgumentError\u001b[0m                      Traceback (most recent call last)",
            "\u001b[0;32m<ipython-input-26-a832bb91e25d>\u001b[0m in \u001b[0;36m<cell line: 1>\u001b[0;34m()\u001b[0m\n\u001b[0;32m----> 1\u001b[0;31m \u001b[0ma\u001b[0m\u001b[0;34m@\u001b[0m\u001b[0mb\u001b[0m\u001b[0;34m\u001b[0m\u001b[0;34m\u001b[0m\u001b[0m\n\u001b[0m",
            "\u001b[0;32m/usr/local/lib/python3.10/dist-packages/tensorflow/python/util/traceback_utils.py\u001b[0m in \u001b[0;36merror_handler\u001b[0;34m(*args, **kwargs)\u001b[0m\n\u001b[1;32m    151\u001b[0m     \u001b[0;32mexcept\u001b[0m \u001b[0mException\u001b[0m \u001b[0;32mas\u001b[0m \u001b[0me\u001b[0m\u001b[0;34m:\u001b[0m\u001b[0;34m\u001b[0m\u001b[0;34m\u001b[0m\u001b[0m\n\u001b[1;32m    152\u001b[0m       \u001b[0mfiltered_tb\u001b[0m \u001b[0;34m=\u001b[0m \u001b[0m_process_traceback_frames\u001b[0m\u001b[0;34m(\u001b[0m\u001b[0me\u001b[0m\u001b[0;34m.\u001b[0m\u001b[0m__traceback__\u001b[0m\u001b[0;34m)\u001b[0m\u001b[0;34m\u001b[0m\u001b[0;34m\u001b[0m\u001b[0m\n\u001b[0;32m--> 153\u001b[0;31m       \u001b[0;32mraise\u001b[0m \u001b[0me\u001b[0m\u001b[0;34m.\u001b[0m\u001b[0mwith_traceback\u001b[0m\u001b[0;34m(\u001b[0m\u001b[0mfiltered_tb\u001b[0m\u001b[0;34m)\u001b[0m \u001b[0;32mfrom\u001b[0m \u001b[0;32mNone\u001b[0m\u001b[0;34m\u001b[0m\u001b[0;34m\u001b[0m\u001b[0m\n\u001b[0m\u001b[1;32m    154\u001b[0m     \u001b[0;32mfinally\u001b[0m\u001b[0;34m:\u001b[0m\u001b[0;34m\u001b[0m\u001b[0;34m\u001b[0m\u001b[0m\n\u001b[1;32m    155\u001b[0m       \u001b[0;32mdel\u001b[0m \u001b[0mfiltered_tb\u001b[0m\u001b[0;34m\u001b[0m\u001b[0;34m\u001b[0m\u001b[0m\n",
            "\u001b[0;32m/usr/local/lib/python3.10/dist-packages/tensorflow/python/framework/ops.py\u001b[0m in \u001b[0;36mraise_from_not_ok_status\u001b[0;34m(e, name)\u001b[0m\n\u001b[1;32m   7260\u001b[0m \u001b[0;32mdef\u001b[0m \u001b[0mraise_from_not_ok_status\u001b[0m\u001b[0;34m(\u001b[0m\u001b[0me\u001b[0m\u001b[0;34m,\u001b[0m \u001b[0mname\u001b[0m\u001b[0;34m)\u001b[0m\u001b[0;34m:\u001b[0m\u001b[0;34m\u001b[0m\u001b[0;34m\u001b[0m\u001b[0m\n\u001b[1;32m   7261\u001b[0m   \u001b[0me\u001b[0m\u001b[0;34m.\u001b[0m\u001b[0mmessage\u001b[0m \u001b[0;34m+=\u001b[0m \u001b[0;34m(\u001b[0m\u001b[0;34m\" name: \"\u001b[0m \u001b[0;34m+\u001b[0m \u001b[0mname\u001b[0m \u001b[0;32mif\u001b[0m \u001b[0mname\u001b[0m \u001b[0;32mis\u001b[0m \u001b[0;32mnot\u001b[0m \u001b[0;32mNone\u001b[0m \u001b[0;32melse\u001b[0m \u001b[0;34m\"\"\u001b[0m\u001b[0;34m)\u001b[0m\u001b[0;34m\u001b[0m\u001b[0;34m\u001b[0m\u001b[0m\n\u001b[0;32m-> 7262\u001b[0;31m   \u001b[0;32mraise\u001b[0m \u001b[0mcore\u001b[0m\u001b[0;34m.\u001b[0m\u001b[0m_status_to_exception\u001b[0m\u001b[0;34m(\u001b[0m\u001b[0me\u001b[0m\u001b[0;34m)\u001b[0m \u001b[0;32mfrom\u001b[0m \u001b[0;32mNone\u001b[0m  \u001b[0;31m# pylint: disable=protected-access\u001b[0m\u001b[0;34m\u001b[0m\u001b[0;34m\u001b[0m\u001b[0m\n\u001b[0m\u001b[1;32m   7263\u001b[0m \u001b[0;34m\u001b[0m\u001b[0m\n\u001b[1;32m   7264\u001b[0m \u001b[0;34m\u001b[0m\u001b[0m\n",
            "\u001b[0;31mInvalidArgumentError\u001b[0m: {{function_node __wrapped__MatMul_device_/job:localhost/replica:0/task:0/device:CPU:0}} Matrix size-incompatible: In[0]: [2,3], In[1]: [2,3] [Op:MatMul]"
          ]
        }
      ]
    },
    {
      "cell_type": "code",
      "source": [
        "tf.matmul(a,b)"
      ],
      "metadata": {
        "colab": {
          "base_uri": "https://localhost:8080/",
          "height": 329
        },
        "id": "A6QDY0SXaDh7",
        "outputId": "ccc6d2c8-1548-4237-e85f-016032309fa7"
      },
      "execution_count": null,
      "outputs": [
        {
          "output_type": "error",
          "ename": "InvalidArgumentError",
          "evalue": "ignored",
          "traceback": [
            "\u001b[0;31m---------------------------------------------------------------------------\u001b[0m",
            "\u001b[0;31mInvalidArgumentError\u001b[0m                      Traceback (most recent call last)",
            "\u001b[0;32m<ipython-input-27-aa98f96dbefc>\u001b[0m in \u001b[0;36m<cell line: 1>\u001b[0;34m()\u001b[0m\n\u001b[0;32m----> 1\u001b[0;31m \u001b[0mtf\u001b[0m\u001b[0;34m.\u001b[0m\u001b[0mmatmul\u001b[0m\u001b[0;34m(\u001b[0m\u001b[0ma\u001b[0m\u001b[0;34m,\u001b[0m\u001b[0mb\u001b[0m\u001b[0;34m)\u001b[0m\u001b[0;34m\u001b[0m\u001b[0;34m\u001b[0m\u001b[0m\n\u001b[0m",
            "\u001b[0;32m/usr/local/lib/python3.10/dist-packages/tensorflow/python/util/traceback_utils.py\u001b[0m in \u001b[0;36merror_handler\u001b[0;34m(*args, **kwargs)\u001b[0m\n\u001b[1;32m    151\u001b[0m     \u001b[0;32mexcept\u001b[0m \u001b[0mException\u001b[0m \u001b[0;32mas\u001b[0m \u001b[0me\u001b[0m\u001b[0;34m:\u001b[0m\u001b[0;34m\u001b[0m\u001b[0;34m\u001b[0m\u001b[0m\n\u001b[1;32m    152\u001b[0m       \u001b[0mfiltered_tb\u001b[0m \u001b[0;34m=\u001b[0m \u001b[0m_process_traceback_frames\u001b[0m\u001b[0;34m(\u001b[0m\u001b[0me\u001b[0m\u001b[0;34m.\u001b[0m\u001b[0m__traceback__\u001b[0m\u001b[0;34m)\u001b[0m\u001b[0;34m\u001b[0m\u001b[0;34m\u001b[0m\u001b[0m\n\u001b[0;32m--> 153\u001b[0;31m       \u001b[0;32mraise\u001b[0m \u001b[0me\u001b[0m\u001b[0;34m.\u001b[0m\u001b[0mwith_traceback\u001b[0m\u001b[0;34m(\u001b[0m\u001b[0mfiltered_tb\u001b[0m\u001b[0;34m)\u001b[0m \u001b[0;32mfrom\u001b[0m \u001b[0;32mNone\u001b[0m\u001b[0;34m\u001b[0m\u001b[0;34m\u001b[0m\u001b[0m\n\u001b[0m\u001b[1;32m    154\u001b[0m     \u001b[0;32mfinally\u001b[0m\u001b[0;34m:\u001b[0m\u001b[0;34m\u001b[0m\u001b[0;34m\u001b[0m\u001b[0m\n\u001b[1;32m    155\u001b[0m       \u001b[0;32mdel\u001b[0m \u001b[0mfiltered_tb\u001b[0m\u001b[0;34m\u001b[0m\u001b[0;34m\u001b[0m\u001b[0m\n",
            "\u001b[0;32m/usr/local/lib/python3.10/dist-packages/tensorflow/python/framework/ops.py\u001b[0m in \u001b[0;36mraise_from_not_ok_status\u001b[0;34m(e, name)\u001b[0m\n\u001b[1;32m   7260\u001b[0m \u001b[0;32mdef\u001b[0m \u001b[0mraise_from_not_ok_status\u001b[0m\u001b[0;34m(\u001b[0m\u001b[0me\u001b[0m\u001b[0;34m,\u001b[0m \u001b[0mname\u001b[0m\u001b[0;34m)\u001b[0m\u001b[0;34m:\u001b[0m\u001b[0;34m\u001b[0m\u001b[0;34m\u001b[0m\u001b[0m\n\u001b[1;32m   7261\u001b[0m   \u001b[0me\u001b[0m\u001b[0;34m.\u001b[0m\u001b[0mmessage\u001b[0m \u001b[0;34m+=\u001b[0m \u001b[0;34m(\u001b[0m\u001b[0;34m\" name: \"\u001b[0m \u001b[0;34m+\u001b[0m \u001b[0mname\u001b[0m \u001b[0;32mif\u001b[0m \u001b[0mname\u001b[0m \u001b[0;32mis\u001b[0m \u001b[0;32mnot\u001b[0m \u001b[0;32mNone\u001b[0m \u001b[0;32melse\u001b[0m \u001b[0;34m\"\"\u001b[0m\u001b[0;34m)\u001b[0m\u001b[0;34m\u001b[0m\u001b[0;34m\u001b[0m\u001b[0m\n\u001b[0;32m-> 7262\u001b[0;31m   \u001b[0;32mraise\u001b[0m \u001b[0mcore\u001b[0m\u001b[0;34m.\u001b[0m\u001b[0m_status_to_exception\u001b[0m\u001b[0;34m(\u001b[0m\u001b[0me\u001b[0m\u001b[0;34m)\u001b[0m \u001b[0;32mfrom\u001b[0m \u001b[0;32mNone\u001b[0m  \u001b[0;31m# pylint: disable=protected-access\u001b[0m\u001b[0;34m\u001b[0m\u001b[0;34m\u001b[0m\u001b[0m\n\u001b[0m\u001b[1;32m   7263\u001b[0m \u001b[0;34m\u001b[0m\u001b[0m\n\u001b[1;32m   7264\u001b[0m \u001b[0;34m\u001b[0m\u001b[0m\n",
            "\u001b[0;31mInvalidArgumentError\u001b[0m: {{function_node __wrapped__MatMul_device_/job:localhost/replica:0/task:0/device:CPU:0}} Matrix size-incompatible: In[0]: [2,3], In[1]: [2,3] [Op:MatMul]"
          ]
        }
      ]
    },
    {
      "cell_type": "code",
      "source": [
        "b.numpy().T"
      ],
      "metadata": {
        "colab": {
          "base_uri": "https://localhost:8080/"
        },
        "id": "Mgi1zPn2aGeK",
        "outputId": "ba555b9d-6352-494a-9aa8-acc19011ac5c"
      },
      "execution_count": null,
      "outputs": [
        {
          "output_type": "execute_result",
          "data": {
            "text/plain": [
              "array([[ 7, 10],\n",
              "       [ 8, 11],\n",
              "       [ 9, 12]], dtype=int32)"
            ]
          },
          "metadata": {},
          "execution_count": 28
        }
      ]
    },
    {
      "cell_type": "code",
      "source": [
        "a@b.numpy().T"
      ],
      "metadata": {
        "colab": {
          "base_uri": "https://localhost:8080/"
        },
        "id": "Rtt2gYNCaLFt",
        "outputId": "31479d1e-601c-4b9c-8803-dc4426122dea"
      },
      "execution_count": null,
      "outputs": [
        {
          "output_type": "execute_result",
          "data": {
            "text/plain": [
              "<tf.Tensor: shape=(2, 2), dtype=int32, numpy=\n",
              "array([[ 50,  68],\n",
              "       [122, 167]], dtype=int32)>"
            ]
          },
          "metadata": {},
          "execution_count": 29
        }
      ]
    },
    {
      "cell_type": "code",
      "source": [
        "a@tf.linalg.matrix_transpose(b)"
      ],
      "metadata": {
        "colab": {
          "base_uri": "https://localhost:8080/"
        },
        "id": "oxNsKZ7YaOrL",
        "outputId": "b741ce5b-8bfb-417f-aee0-a863fd856b80"
      },
      "execution_count": null,
      "outputs": [
        {
          "output_type": "execute_result",
          "data": {
            "text/plain": [
              "<tf.Tensor: shape=(2, 2), dtype=int32, numpy=\n",
              "array([[ 50,  68],\n",
              "       [122, 167]], dtype=int32)>"
            ]
          },
          "metadata": {},
          "execution_count": 30
        }
      ]
    },
    {
      "cell_type": "code",
      "source": [
        "tf.matmul(a,b,transpose_b=True)"
      ],
      "metadata": {
        "colab": {
          "base_uri": "https://localhost:8080/"
        },
        "id": "GzElCa6WafzF",
        "outputId": "75d259c6-25ce-421d-a589-9edb3a0e8c86"
      },
      "execution_count": null,
      "outputs": [
        {
          "output_type": "execute_result",
          "data": {
            "text/plain": [
              "<tf.Tensor: shape=(2, 2), dtype=int32, numpy=\n",
              "array([[ 50,  68],\n",
              "       [122, 167]], dtype=int32)>"
            ]
          },
          "metadata": {},
          "execution_count": 31
        }
      ]
    },
    {
      "cell_type": "code",
      "source": [
        "tf.linalg.inv(tf.constant([2,14,35,9],shape=[2,2],dtype='float32'))"
      ],
      "metadata": {
        "colab": {
          "base_uri": "https://localhost:8080/"
        },
        "id": "2eE4eYCWav6o",
        "outputId": "1e4a29de-a78c-4b02-b12b-2d9b6fa6185f"
      },
      "execution_count": null,
      "outputs": [
        {
          "output_type": "execute_result",
          "data": {
            "text/plain": [
              "<tf.Tensor: shape=(2, 2), dtype=float32, numpy=\n",
              "array([[-0.0190678 ,  0.02966102],\n",
              "       [ 0.07415254, -0.00423729]], dtype=float32)>"
            ]
          },
          "metadata": {},
          "execution_count": 32
        }
      ]
    },
    {
      "cell_type": "markdown",
      "source": [
        "#Gradients in TensorFlow"
      ],
      "metadata": {
        "id": "AtLV8bGFuhIR"
      }
    },
    {
      "cell_type": "code",
      "source": [
        "def f(x):\n",
        "  return x**2+2*x+tf.math.cos(x)"
      ],
      "metadata": {
        "id": "K7OlaoUyunrm"
      },
      "execution_count": null,
      "outputs": []
    },
    {
      "cell_type": "code",
      "source": [
        "f(1.0)"
      ],
      "metadata": {
        "colab": {
          "base_uri": "https://localhost:8080/"
        },
        "id": "dxg_64bauydD",
        "outputId": "91e5757a-975f-4df2-d5c2-afc8ed219b83"
      },
      "execution_count": null,
      "outputs": [
        {
          "output_type": "execute_result",
          "data": {
            "text/plain": [
              "<tf.Tensor: shape=(), dtype=float32, numpy=3.5403023>"
            ]
          },
          "metadata": {},
          "execution_count": 34
        }
      ]
    },
    {
      "cell_type": "code",
      "source": [
        "x=tf.Variable(0,dtype='float32')"
      ],
      "metadata": {
        "id": "qeewf-h6u0EM"
      },
      "execution_count": null,
      "outputs": []
    },
    {
      "cell_type": "code",
      "source": [
        "with tf.GradientTape() as g:\n",
        "  y=f(x)"
      ],
      "metadata": {
        "id": "OCU6ipSxu7-Z"
      },
      "execution_count": null,
      "outputs": []
    },
    {
      "cell_type": "code",
      "source": [
        "a=g.gradient(y,x) # can only run once"
      ],
      "metadata": {
        "colab": {
          "base_uri": "https://localhost:8080/",
          "height": 305
        },
        "id": "FXQw1M2FvHs9",
        "outputId": "29cd654b-b61c-4ac2-987e-65305c7e68a2"
      },
      "execution_count": null,
      "outputs": [
        {
          "output_type": "error",
          "ename": "RuntimeError",
          "evalue": "ignored",
          "traceback": [
            "\u001b[0;31m---------------------------------------------------------------------------\u001b[0m",
            "\u001b[0;31mRuntimeError\u001b[0m                              Traceback (most recent call last)",
            "\u001b[0;32m<ipython-input-39-a94c2de51316>\u001b[0m in \u001b[0;36m<cell line: 1>\u001b[0;34m()\u001b[0m\n\u001b[0;32m----> 1\u001b[0;31m \u001b[0ma\u001b[0m\u001b[0;34m=\u001b[0m\u001b[0mg\u001b[0m\u001b[0;34m.\u001b[0m\u001b[0mgradient\u001b[0m\u001b[0;34m(\u001b[0m\u001b[0my\u001b[0m\u001b[0;34m,\u001b[0m\u001b[0mx\u001b[0m\u001b[0;34m)\u001b[0m\u001b[0;34m\u001b[0m\u001b[0;34m\u001b[0m\u001b[0m\n\u001b[0m",
            "\u001b[0;32m/usr/local/lib/python3.10/dist-packages/tensorflow/python/eager/backprop.py\u001b[0m in \u001b[0;36mgradient\u001b[0;34m(self, target, sources, output_gradients, unconnected_gradients)\u001b[0m\n\u001b[1;32m   1001\u001b[0m     \"\"\"\n\u001b[1;32m   1002\u001b[0m     \u001b[0;32mif\u001b[0m \u001b[0mself\u001b[0m\u001b[0;34m.\u001b[0m\u001b[0m_tape\u001b[0m \u001b[0;32mis\u001b[0m \u001b[0;32mNone\u001b[0m\u001b[0;34m:\u001b[0m\u001b[0;34m\u001b[0m\u001b[0;34m\u001b[0m\u001b[0m\n\u001b[0;32m-> 1003\u001b[0;31m       raise RuntimeError(\"A non-persistent GradientTape can only be used to \"\n\u001b[0m\u001b[1;32m   1004\u001b[0m                          \"compute one set of gradients (or jacobians)\")\n\u001b[1;32m   1005\u001b[0m     \u001b[0;32mif\u001b[0m \u001b[0mself\u001b[0m\u001b[0;34m.\u001b[0m\u001b[0m_recording\u001b[0m\u001b[0;34m:\u001b[0m\u001b[0;34m\u001b[0m\u001b[0;34m\u001b[0m\u001b[0m\n",
            "\u001b[0;31mRuntimeError\u001b[0m: A non-persistent GradientTape can only be used to compute one set of gradients (or jacobians)"
          ]
        }
      ]
    },
    {
      "cell_type": "code",
      "source": [
        "print(a)"
      ],
      "metadata": {
        "colab": {
          "base_uri": "https://localhost:8080/"
        },
        "id": "nJuKe5hpv-Wj",
        "outputId": "f9fd9c0d-f1e0-47f0-b55a-af83ebd866dd"
      },
      "execution_count": null,
      "outputs": [
        {
          "output_type": "stream",
          "name": "stdout",
          "text": [
            "tf.Tensor(2.0, shape=(), dtype=float32)\n"
          ]
        }
      ]
    },
    {
      "cell_type": "code",
      "source": [
        "x=tf.Variable(0,dtype='float32') #created a variable x\n",
        "x_vals=[]\n",
        "f_x=[]\n",
        "df_dx=[]\n",
        "\n",
        "for i in range(100):\n",
        "  with tf.GradientTape() as g:\n",
        "    y=f(x)\n",
        "  x.assign_add(0.5)  # updating x on which we have to calculate derivative\n",
        "  x_vals.append(x.numpy()) # x values\n",
        "  f_x.append(f(x).numpy()) # f(x) values\n",
        "  df_dx.append(g.gradient(y,x).numpy()) # derivative values"
      ],
      "metadata": {
        "id": "cdQXvfcvwAQc"
      },
      "execution_count": null,
      "outputs": []
    },
    {
      "cell_type": "code",
      "source": [
        "import seaborn as sns\n",
        "%matplotlib inline"
      ],
      "metadata": {
        "id": "3yl4gKbwyLix"
      },
      "execution_count": null,
      "outputs": []
    },
    {
      "cell_type": "code",
      "source": [
        "import pandas as pd"
      ],
      "metadata": {
        "id": "4eXJy4IeyaBF"
      },
      "execution_count": null,
      "outputs": []
    },
    {
      "cell_type": "code",
      "source": [
        "data=pd.DataFrame({'x_vals':x_vals,'f':f_x,'grads':df_dx})"
      ],
      "metadata": {
        "id": "ljUUTARtyczF"
      },
      "execution_count": null,
      "outputs": []
    },
    {
      "cell_type": "code",
      "source": [
        "sns.scatterplot(data=data,x=data['x_vals'],y=data['f'])"
      ],
      "metadata": {
        "colab": {
          "base_uri": "https://localhost:8080/",
          "height": 467
        },
        "id": "i-AuxGwayx-C",
        "outputId": "e6898243-9bbc-4602-a0a0-7c08ff9ca864"
      },
      "execution_count": null,
      "outputs": [
        {
          "output_type": "execute_result",
          "data": {
            "text/plain": [
              "<Axes: xlabel='x_vals', ylabel='f'>"
            ]
          },
          "metadata": {},
          "execution_count": 47
        },
        {
          "output_type": "display_data",
          "data": {
            "text/plain": [
              "<Figure size 640x480 with 1 Axes>"
            ],
            "image/png": "[encoded data removed]"
          },
          "metadata": {}
        }
      ]
    },
    {
      "cell_type": "code",
      "source": [
        "sns.scatterplot(data=data,x=data['x_vals'],y=data['grads'])"
      ],
      "metadata": {
        "colab": {
          "base_uri": "https://localhost:8080/",
          "height": 467
        },
        "id": "vi4Xqp7sy5uK",
        "outputId": "76c5019c-db47-44be-aef1-dafc15d10cf5"
      },
      "execution_count": null,
      "outputs": [
        {
          "output_type": "execute_result",
          "data": {
            "text/plain": [
              "<Axes: xlabel='x_vals', ylabel='grads'>"
            ]
          },
          "metadata": {},
          "execution_count": 48
        },
        {
          "output_type": "display_data",
          "data": {
            "text/plain": [
              "<Figure size 640x480 with 1 Axes>"
            ],
            "image/png": "[encoded data removed]"
          },
          "metadata": {}
        }
      ]
    },
    {
      "cell_type": "markdown",
      "source": [
        "# Simple Linear Regression with tensorflow gradient tape"
      ],
      "metadata": {
        "id": "vp7kFjEazh84"
      }
    },
    {
      "cell_type": "code",
      "source": [
        "import numpy as np"
      ],
      "metadata": {
        "id": "gZ9gnCBrzteT"
      },
      "execution_count": null,
      "outputs": []
    },
    {
      "cell_type": "code",
      "source": [
        "x1=np.random.randint(1,30,200000)\n",
        "x2=np.random.randint(1,30,200000)\n",
        "x=pd.DataFrame({'x1':x1,'x2':x2})\n",
        "y=4+2*x1+3*x2+3*np.random.random(200000)"
      ],
      "metadata": {
        "id": "maHCyLN91mST"
      },
      "execution_count": null,
      "outputs": []
    },
    {
      "cell_type": "code",
      "source": [
        "x.shape"
      ],
      "metadata": {
        "colab": {
          "base_uri": "https://localhost:8080/"
        },
        "id": "_ThQxFAN2CY2",
        "outputId": "836e7eac-99da-4fa7-d7ad-beccd96f8d59"
      },
      "execution_count": null,
      "outputs": [
        {
          "output_type": "execute_result",
          "data": {
            "text/plain": [
              "(200000, 2)"
            ]
          },
          "metadata": {},
          "execution_count": 51
        }
      ]
    },
    {
      "cell_type": "code",
      "source": [
        "class preds:\n",
        "  def __init__(self):\n",
        "    self.w1=tf.Variable(0.0)\n",
        "    self.w2=tf.Variable(0.0)\n",
        "    self.b=tf.Variable(0.0)\n",
        "\n",
        "  def __call__(self,x):  # __call__() converts python objects into callable\n",
        "    result=self.w1*x.iloc[:,0]+self.w2*x.iloc[:,1]+self.b\n",
        "    return result"
      ],
      "metadata": {
        "id": "xrAQod8T2EA7"
      },
      "execution_count": null,
      "outputs": []
    },
    {
      "cell_type": "code",
      "source": [
        "model=preds()"
      ],
      "metadata": {
        "id": "7Fr1zitg-m48"
      },
      "execution_count": null,
      "outputs": []
    },
    {
      "cell_type": "code",
      "source": [
        "model(x).numpy()"
      ],
      "metadata": {
        "colab": {
          "base_uri": "https://localhost:8080/"
        },
        "id": "Al4JAtZV-m7t",
        "outputId": "7e9c758f-ec44-4f1e-a87f-f6e9c60aa7e0"
      },
      "execution_count": null,
      "outputs": [
        {
          "output_type": "execute_result",
          "data": {
            "text/plain": [
              "array([0., 0., 0., ..., 0., 0., 0.], dtype=float32)"
            ]
          },
          "metadata": {},
          "execution_count": 56
        }
      ]
    },
    {
      "cell_type": "code",
      "source": [
        "def loss(predicted_y,target_y):\n",
        "  return tf.reduce_mean(tf.square(predicted_y-target_y))"
      ],
      "metadata": {
        "id": "y5ga5Bqo-m-T"
      },
      "execution_count": null,
      "outputs": []
    },
    {
      "cell_type": "code",
      "source": [
        "def train(model,inputs,outputs,learning_rate):\n",
        "\n",
        "  with tf.GradientTape() as t:\n",
        "    current_loss=loss(model(inputs),outputs)\n",
        "\n",
        "  dw1,dw2,db=t.gradient(current_loss,[model.w1,model.w2,model.b])\n",
        "\n",
        "  model.w1.assign_sub(learning_rate*dw1)\n",
        "  model.w2.assign_sub(learning_rate*dw1)\n",
        "  model.b.assign_sub(learning_rate*db*20)"
      ],
      "metadata": {
        "id": "T6uV8IhK-nAr"
      },
      "execution_count": null,
      "outputs": []
    },
    {
      "cell_type": "code",
      "source": [
        "model=preds()\n",
        "\n",
        "w1s,w2s,bs=[],[],[]\n",
        "\n",
        "steps=range(500)\n",
        "\n",
        "for step in steps:\n",
        "\n",
        "  w1s.append(model.w1.numpy())\n",
        "  w2s.append(model.w2.numpy())\n",
        "  bs.append(model.b.numpy())\n",
        "\n",
        "  rand_ind=np.random.choice(range(x.shape[0]),100)\n",
        "  outputs=y[rand_ind]\n",
        "  inputs=x.iloc[rand_ind,:]\n",
        "\n",
        "  current_loss=loss(model(inputs),outputs)\n",
        "\n",
        "  train(model,inputs,outputs,learning_rate=0.0001)\n",
        "\n",
        "  print(f'Epoch {step}: W1={w2s[-1]} b={bs[-1]}, loss={current_loss}')"
      ],
      "metadata": {
        "colab": {
          "base_uri": "https://localhost:8080/"
        },
        "id": "Sa-sIDYQ-nGZ",
        "outputId": "abf6115e-852b-4d4c-d130-29e1241cde1f"
      },
      "execution_count": null,
      "outputs": [
        {
          "output_type": "stream",
          "name": "stdout",
          "text": [
            "Epoch 0: W1=0.0 b=0.0, loss=7585.5556640625\n",
            "Epoch 1: W1=0.28051406145095825 b=0.32688236236572266, loss=5689.7138671875\n",
            "Epoch 2: W1=0.5109806060791016 b=0.6109398603439331, loss=4804.14013671875\n",
            "Epoch 3: W1=0.7255638837814331 b=0.8694300651550293, loss=3681.82666015625\n",
            "Epoch 4: W1=0.8988140225410461 b=1.094435453414917, loss=3525.09228515625\n",
            "Epoch 5: W1=1.0813876390457153 b=1.3164784908294678, loss=2594.31884765625\n",
            "Epoch 6: W1=1.251394271850586 b=1.5069775581359863, loss=2347.961181640625\n",
            "Epoch 7: W1=1.4066507816314697 b=1.6914892196655273, loss=1534.08447265625\n",
            "Epoch 8: W1=1.51722252368927 b=1.8378099203109741, loss=1253.279541015625\n",
            "Epoch 9: W1=1.6230436563491821 b=1.969977617263794, loss=1088.419677734375\n",
            "Epoch 10: W1=1.7265957593917847 b=2.091200113296509, loss=807.691162109375\n",
            "Epoch 11: W1=1.8106067180633545 b=2.1951682567596436, loss=708.5993041992188\n",
            "Epoch 12: W1=1.8875706195831299 b=2.2931132316589355, loss=530.97900390625\n",
            "Epoch 13: W1=1.943467140197754 b=2.377412796020508, loss=434.1596374511719\n",
            "Epoch 14: W1=2.003580331802368 b=2.452784299850464, loss=343.8905944824219\n",
            "Epoch 15: W1=2.0555286407470703 b=2.5211946964263916, loss=307.0460205078125\n",
            "Epoch 16: W1=2.1099720001220703 b=2.584876298904419, loss=296.5259704589844\n",
            "Epoch 17: W1=2.1553280353546143 b=2.647261142730713, loss=208.01724243164062\n",
            "Epoch 18: W1=2.1894915103912354 b=2.698542356491089, loss=184.44232177734375\n",
            "Epoch 19: W1=2.22352933883667 b=2.7458505630493164, loss=174.0936737060547\n",
            "Epoch 20: W1=2.2500743865966797 b=2.7895519733428955, loss=155.92893981933594\n",
            "Epoch 21: W1=2.2792861461639404 b=2.8322417736053467, loss=127.95037841796875\n",
            "Epoch 22: W1=2.3039326667785645 b=2.8698365688323975, loss=111.52730560302734\n",
            "Epoch 23: W1=2.3234384059906006 b=2.9017882347106934, loss=90.53691101074219\n",
            "Epoch 24: W1=2.3414812088012695 b=2.931128740310669, loss=81.0746078491211\n",
            "Epoch 25: W1=2.3599061965942383 b=2.958576202392578, loss=81.41280364990234\n",
            "Epoch 26: W1=2.374617338180542 b=2.9846248626708984, loss=67.57453155517578\n",
            "Epoch 27: W1=2.3869502544403076 b=3.007672071456909, loss=61.902130126953125\n",
            "Epoch 28: W1=2.4013330936431885 b=3.030350923538208, loss=61.21034240722656\n",
            "Epoch 29: W1=2.412285566329956 b=3.0516674518585205, loss=54.54298782348633\n",
            "Epoch 30: W1=2.4212398529052734 b=3.069950580596924, loss=57.21934509277344\n",
            "Epoch 31: W1=2.428058624267578 b=3.086773633956909, loss=55.197513580322266\n",
            "Epoch 32: W1=2.4374513626098633 b=3.107281446456909, loss=54.404640197753906\n",
            "Epoch 33: W1=2.444035530090332 b=3.123347043991089, loss=41.6987419128418\n",
            "Epoch 34: W1=2.4527652263641357 b=3.1392650604248047, loss=44.2005500793457\n",
            "Epoch 35: W1=2.4566409587860107 b=3.1512558460235596, loss=47.783958435058594\n",
            "Epoch 36: W1=2.4623188972473145 b=3.1667211055755615, loss=57.18526840209961\n",
            "Epoch 37: W1=2.465393304824829 b=3.1830596923828125, loss=37.379825592041016\n",
            "Epoch 38: W1=2.4683339595794678 b=3.1923274993896484, loss=40.90596008300781\n",
            "Epoch 39: W1=2.4708728790283203 b=3.203874349594116, loss=42.02482986450195\n",
            "Epoch 40: W1=2.4748382568359375 b=3.2164456844329834, loss=50.1348762512207\n",
            "Epoch 41: W1=2.476760149002075 b=3.2290892601013184, loss=43.337196350097656\n",
            "Epoch 42: W1=2.479853868484497 b=3.2418811321258545, loss=42.038639068603516\n",
            "Epoch 43: W1=2.482222557067871 b=3.252645969390869, loss=41.95973587036133\n",
            "Epoch 44: W1=2.4823875427246094 b=3.2616987228393555, loss=35.76226806640625\n",
            "Epoch 45: W1=2.48134183883667 b=3.2686867713928223, loss=48.34893035888672\n",
            "Epoch 46: W1=2.4836044311523438 b=3.2813563346862793, loss=46.464298248291016\n",
            "Epoch 47: W1=2.485961437225342 b=3.2939939498901367, loss=37.46571350097656\n",
            "Epoch 48: W1=2.4864253997802734 b=3.302466630935669, loss=54.215667724609375\n",
            "Epoch 49: W1=2.4843814373016357 b=3.312877893447876, loss=50.92304992675781\n",
            "Epoch 50: W1=2.4878580570220947 b=3.3278579711914062, loss=29.474044799804688\n",
            "Epoch 51: W1=2.484185218811035 b=3.329038143157959, loss=41.792789459228516\n",
            "Epoch 52: W1=2.48543643951416 b=3.339136838912964, loss=44.074337005615234\n",
            "Epoch 53: W1=2.4865455627441406 b=3.3501124382019043, loss=49.26456069946289\n",
            "Epoch 54: W1=2.4911036491394043 b=3.365834951400757, loss=40.9844970703125\n",
            "Epoch 55: W1=2.4930949211120605 b=3.375899314880371, loss=41.066627502441406\n",
            "Epoch 56: W1=2.4940762519836426 b=3.385444402694702, loss=33.21632385253906\n",
            "Epoch 57: W1=2.492295742034912 b=3.391108989715576, loss=35.43290328979492\n",
            "Epoch 58: W1=2.4911961555480957 b=3.3984391689300537, loss=48.37824630737305\n",
            "Epoch 59: W1=2.4946329593658447 b=3.4124863147735596, loss=43.90851974487305\n",
            "Epoch 60: W1=2.4942760467529297 b=3.4224212169647217, loss=33.75951385498047\n",
            "Epoch 61: W1=2.492938995361328 b=3.428887128829956, loss=43.511512756347656\n",
            "Epoch 62: W1=2.49489164352417 b=3.4406204223632812, loss=34.9774284362793\n",
            "Epoch 63: W1=2.4947357177734375 b=3.4481186866760254, loss=47.1539421081543\n",
            "Epoch 64: W1=2.4952547550201416 b=3.459794521331787, loss=43.414146423339844\n",
            "Epoch 65: W1=2.494424343109131 b=3.469180107116699, loss=47.84809494018555\n",
            "Epoch 66: W1=2.489661455154419 b=3.4751503467559814, loss=40.470096588134766\n",
            "Epoch 67: W1=2.4915432929992676 b=3.486265182495117, loss=47.314022064208984\n",
            "Epoch 68: W1=2.490966558456421 b=3.4957149028778076, loss=43.100643157958984\n",
            "Epoch 69: W1=2.493675470352173 b=3.508430242538452, loss=44.589874267578125\n",
            "Epoch 70: W1=2.4958786964416504 b=3.5205159187316895, loss=35.334739685058594\n",
            "Epoch 71: W1=2.4941415786743164 b=3.5260863304138184, loss=48.031124114990234\n",
            "Epoch 72: W1=2.494878053665161 b=3.5371620655059814, loss=42.515037536621094\n",
            "Epoch 73: W1=2.4943323135375977 b=3.5468320846557617, loss=43.38105392456055\n",
            "Epoch 74: W1=2.495748996734619 b=3.5588197708129883, loss=37.03932189941406\n",
            "Epoch 75: W1=2.4932479858398438 b=3.5637121200561523, loss=39.79725646972656\n",
            "Epoch 76: W1=2.4948127269744873 b=3.5746548175811768, loss=40.934295654296875\n",
            "Epoch 77: W1=2.4927754402160645 b=3.5818088054656982, loss=47.16792297363281\n",
            "Epoch 78: W1=2.4894988536834717 b=3.588804244995117, loss=38.43418884277344\n",
            "Epoch 79: W1=2.4866890907287598 b=3.5935394763946533, loss=36.891231536865234\n",
            "Epoch 80: W1=2.4863522052764893 b=3.6022047996520996, loss=36.525978088378906\n",
            "Epoch 81: W1=2.4867746829986572 b=3.6103456020355225, loss=44.653663635253906\n",
            "Epoch 82: W1=2.4887921810150146 b=3.62141752243042, loss=41.86973571777344\n",
            "Epoch 83: W1=2.486614465713501 b=3.6289799213409424, loss=51.86643600463867\n",
            "Epoch 84: W1=2.4887800216674805 b=3.6432089805603027, loss=43.98332977294922\n",
            "Epoch 85: W1=2.488615036010742 b=3.6533331871032715, loss=49.423736572265625\n",
            "Epoch 86: W1=2.48878812789917 b=3.66467022895813, loss=38.76495361328125\n",
            "Epoch 87: W1=2.486156463623047 b=3.6696715354919434, loss=37.973480224609375\n",
            "Epoch 88: W1=2.487837553024292 b=3.6796085834503174, loss=35.61553192138672\n",
            "Epoch 89: W1=2.4878945350646973 b=3.6889095306396484, loss=40.9651985168457\n",
            "Epoch 90: W1=2.4851653575897217 b=3.695525884628296, loss=46.79167938232422\n",
            "Epoch 91: W1=2.485370397567749 b=3.7069132328033447, loss=36.54182052612305\n",
            "Epoch 92: W1=2.4883182048797607 b=3.71819806098938, loss=39.29670715332031\n",
            "Epoch 93: W1=2.489696502685547 b=3.7290871143341064, loss=43.691795349121094\n",
            "Epoch 94: W1=2.4876036643981934 b=3.7362453937530518, loss=33.24061965942383\n",
            "Epoch 95: W1=2.4870269298553467 b=3.7434208393096924, loss=45.273590087890625\n",
            "Epoch 96: W1=2.485441207885742 b=3.7500033378601074, loss=42.972110748291016\n",
            "Epoch 97: W1=2.4860775470733643 b=3.760507345199585, loss=36.79747772216797\n",
            "Epoch 98: W1=2.4855096340179443 b=3.768146276473999, loss=40.68693542480469\n",
            "Epoch 99: W1=2.4863932132720947 b=3.778940439224243, loss=37.27677917480469\n",
            "Epoch 100: W1=2.484745740890503 b=3.7856576442718506, loss=40.607696533203125\n",
            "Epoch 101: W1=2.4808456897735596 b=3.791759729385376, loss=37.562252044677734\n",
            "Epoch 102: W1=2.4820759296417236 b=3.8002004623413086, loss=43.49613952636719\n",
            "Epoch 103: W1=2.482889413833618 b=3.8102190494537354, loss=34.52083206176758\n",
            "Epoch 104: W1=2.4835712909698486 b=3.818333387374878, loss=42.92328643798828\n",
            "Epoch 105: W1=2.4845781326293945 b=3.829331874847412, loss=37.37807846069336\n",
            "Epoch 106: W1=2.4860544204711914 b=3.8387701511383057, loss=38.62000274658203\n",
            "Epoch 107: W1=2.4844024181365967 b=3.8461618423461914, loss=40.415672302246094\n",
            "Epoch 108: W1=2.483435869216919 b=3.8535690307617188, loss=32.4054069519043\n",
            "Epoch 109: W1=2.484815835952759 b=3.862588405609131, loss=45.73249053955078\n",
            "Epoch 110: W1=2.4849979877471924 b=3.872551441192627, loss=37.94743728637695\n",
            "Epoch 111: W1=2.4840188026428223 b=3.8802831172943115, loss=40.010833740234375\n",
            "Epoch 112: W1=2.4833931922912598 b=3.8891804218292236, loss=35.98215866088867\n",
            "Epoch 113: W1=2.4847471714019775 b=3.8989531993865967, loss=27.171987533569336\n",
            "Epoch 114: W1=2.483283758163452 b=3.9034934043884277, loss=40.73716354370117\n",
            "Epoch 115: W1=2.484821319580078 b=3.9143221378326416, loss=40.414344787597656\n",
            "Epoch 116: W1=2.485645055770874 b=3.9238121509552, loss=35.820011138916016\n",
            "Epoch 117: W1=2.486297607421875 b=3.9329209327697754, loss=38.205326080322266\n",
            "Epoch 118: W1=2.4866909980773926 b=3.941504955291748, loss=39.805572509765625\n",
            "Epoch 119: W1=2.484585762023926 b=3.9489684104919434, loss=39.091060638427734\n",
            "Epoch 120: W1=2.4837865829467773 b=3.9569382667541504, loss=38.43514633178711\n",
            "Epoch 121: W1=2.4860267639160156 b=3.967984676361084, loss=37.220375061035156\n",
            "Epoch 122: W1=2.4852826595306396 b=3.9749748706817627, loss=45.1413459777832\n",
            "Epoch 123: W1=2.485996723175049 b=3.9854605197906494, loss=34.839271545410156\n",
            "Epoch 124: W1=2.483614921569824 b=3.9912803173065186, loss=41.38323211669922\n",
            "Epoch 125: W1=2.482933521270752 b=3.9998176097869873, loss=38.983863830566406\n",
            "Epoch 126: W1=2.4846317768096924 b=4.009788513183594, loss=47.444007873535156\n",
            "Epoch 127: W1=2.4820876121520996 b=4.016667366027832, loss=39.421592712402344\n",
            "Epoch 128: W1=2.4839069843292236 b=4.028039932250977, loss=38.915924072265625\n",
            "Epoch 129: W1=2.48152232170105 b=4.034139633178711, loss=46.42668914794922\n",
            "Epoch 130: W1=2.47892165184021 b=4.040402412414551, loss=46.691993713378906\n",
            "Epoch 131: W1=2.4759702682495117 b=4.046911239624023, loss=29.888513565063477\n",
            "Epoch 132: W1=2.4741370677948 b=4.051351070404053, loss=32.11500549316406\n",
            "Epoch 133: W1=2.4744927883148193 b=4.058816909790039, loss=38.67026901245117\n",
            "Epoch 134: W1=2.471888542175293 b=4.064547538757324, loss=41.693023681640625\n",
            "Epoch 135: W1=2.47342848777771 b=4.0749192237854, loss=40.06877517700195\n",
            "Epoch 136: W1=2.4724528789520264 b=4.08339786529541, loss=34.42118835449219\n",
            "Epoch 137: W1=2.4702348709106445 b=4.089020252227783, loss=44.34404373168945\n",
            "Epoch 138: W1=2.470055103302002 b=4.096973419189453, loss=40.923133850097656\n",
            "Epoch 139: W1=2.4677951335906982 b=4.103388786315918, loss=45.908695220947266\n",
            "Epoch 140: W1=2.4694082736968994 b=4.115562915802002, loss=37.217979431152344\n",
            "Epoch 141: W1=2.468430995941162 b=4.122748374938965, loss=47.47244644165039\n",
            "Epoch 142: W1=2.4683356285095215 b=4.132907390594482, loss=34.65224075317383\n",
            "Epoch 143: W1=2.4658093452453613 b=4.137594223022461, loss=42.43537139892578\n",
            "Epoch 144: W1=2.4667341709136963 b=4.147444248199463, loss=46.518611907958984\n",
            "Epoch 145: W1=2.466386079788208 b=4.156710147857666, loss=47.05857467651367\n",
            "Epoch 146: W1=2.467343807220459 b=4.166577339172363, loss=46.33452606201172\n",
            "Epoch 147: W1=2.467164993286133 b=4.1758294105529785, loss=39.83100509643555\n",
            "Epoch 148: W1=2.465263605117798 b=4.1818037033081055, loss=36.774234771728516\n",
            "Epoch 149: W1=2.4656457901000977 b=4.1909894943237305, loss=43.19765090942383\n",
            "Epoch 150: W1=2.466632604598999 b=4.202073574066162, loss=37.915122985839844\n",
            "Epoch 151: W1=2.4672980308532715 b=4.211192607879639, loss=35.6017951965332\n",
            "Epoch 152: W1=2.4694643020629883 b=4.221262454986572, loss=41.883270263671875\n",
            "Epoch 153: W1=2.469844102859497 b=4.230795383453369, loss=46.372108459472656\n",
            "Epoch 154: W1=2.470879077911377 b=4.242552280426025, loss=38.74369430541992\n",
            "Epoch 155: W1=2.4708030223846436 b=4.250184535980225, loss=36.51322937011719\n",
            "Epoch 156: W1=2.4708120822906494 b=4.25752067565918, loss=40.406036376953125\n",
            "Epoch 157: W1=2.4675822257995605 b=4.263477802276611, loss=41.396915435791016\n",
            "Epoch 158: W1=2.4709951877593994 b=4.275363445281982, loss=36.85645294189453\n",
            "Epoch 159: W1=2.4688162803649902 b=4.280532360076904, loss=50.20289993286133\n",
            "Epoch 160: W1=2.4726998805999756 b=4.295892238616943, loss=42.80133819580078\n",
            "Epoch 161: W1=2.4705936908721924 b=4.303353309631348, loss=35.405303955078125\n",
            "Epoch 162: W1=2.469848871231079 b=4.3100714683532715, loss=40.49000930786133\n",
            "Epoch 163: W1=2.4730615615844727 b=4.32270622253418, loss=40.986263275146484\n",
            "Epoch 164: W1=2.4734816551208496 b=4.331470489501953, loss=42.84842300415039\n",
            "Epoch 165: W1=2.4739699363708496 b=4.342316150665283, loss=41.56328201293945\n",
            "Epoch 166: W1=2.4724442958831787 b=4.351212978363037, loss=43.25885772705078\n",
            "Epoch 167: W1=2.4690425395965576 b=4.357711315155029, loss=32.003028869628906\n",
            "Epoch 168: W1=2.470065116882324 b=4.365475654602051, loss=35.67771911621094\n",
            "Epoch 169: W1=2.4699840545654297 b=4.373444080352783, loss=47.02012634277344\n",
            "Epoch 170: W1=2.4700450897216797 b=4.384413242340088, loss=43.78874588012695\n",
            "Epoch 171: W1=2.468126058578491 b=4.391654968261719, loss=39.370452880859375\n",
            "Epoch 172: W1=2.4644856452941895 b=4.396512508392334, loss=39.822288513183594\n",
            "Epoch 173: W1=2.465433359146118 b=4.405255317687988, loss=44.49421310424805\n",
            "Epoch 174: W1=2.466336488723755 b=4.416762828826904, loss=30.899736404418945\n",
            "Epoch 175: W1=2.4673242568969727 b=4.424813270568848, loss=45.598243713378906\n",
            "Epoch 176: W1=2.4680302143096924 b=4.435801982879639, loss=37.9292106628418\n",
            "Epoch 177: W1=2.4684433937072754 b=4.443685531616211, loss=41.505802154541016\n",
            "Epoch 178: W1=2.4663619995117188 b=4.450707912445068, loss=40.84377670288086\n",
            "Epoch 179: W1=2.467339038848877 b=4.458496570587158, loss=44.6140022277832\n",
            "Epoch 180: W1=2.466458320617676 b=4.466555595397949, loss=35.11453628540039\n",
            "Epoch 181: W1=2.4672083854675293 b=4.475082874298096, loss=46.25371551513672\n",
            "Epoch 182: W1=2.4629125595092773 b=4.480498790740967, loss=43.55198669433594\n",
            "Epoch 183: W1=2.4647486209869385 b=4.492656230926514, loss=33.318931579589844\n",
            "Epoch 184: W1=2.4641504287719727 b=4.49849796295166, loss=39.347049713134766\n",
            "Epoch 185: W1=2.4606852531433105 b=4.502797603607178, loss=40.025508880615234\n",
            "Epoch 186: W1=2.462451457977295 b=4.514329433441162, loss=43.4627571105957\n",
            "Epoch 187: W1=2.4633445739746094 b=4.524226665496826, loss=44.75107955932617\n",
            "Epoch 188: W1=2.4640114307403564 b=4.534603118896484, loss=37.198936462402344\n",
            "Epoch 189: W1=2.4617743492126465 b=4.539477348327637, loss=55.325199127197266\n",
            "Epoch 190: W1=2.4610047340393066 b=4.551639556884766, loss=43.236175537109375\n",
            "Epoch 191: W1=2.46102237701416 b=4.561532497406006, loss=43.6097526550293\n",
            "Epoch 192: W1=2.4592278003692627 b=4.568998336791992, loss=36.50907516479492\n",
            "Epoch 193: W1=2.4583189487457275 b=4.57559871673584, loss=43.115760803222656\n",
            "Epoch 194: W1=2.461090087890625 b=4.587411880493164, loss=40.31824493408203\n",
            "Epoch 195: W1=2.463219404220581 b=4.598258972167969, loss=32.51844787597656\n",
            "Epoch 196: W1=2.4614369869232178 b=4.603446006774902, loss=34.938846588134766\n",
            "Epoch 197: W1=2.461224317550659 b=4.610532283782959, loss=40.16285705566406\n",
            "Epoch 198: W1=2.4578354358673096 b=4.616244792938232, loss=45.18547821044922\n",
            "Epoch 199: W1=2.459365129470825 b=4.628416538238525, loss=43.593658447265625\n",
            "Epoch 200: W1=2.459118604660034 b=4.637928485870361, loss=32.291648864746094\n",
            "Epoch 201: W1=2.4577138423919678 b=4.642167091369629, loss=39.127464294433594\n",
            "Epoch 202: W1=2.459991216659546 b=4.653247833251953, loss=35.80906295776367\n",
            "Epoch 203: W1=2.4615931510925293 b=4.662418842315674, loss=44.03059005737305\n",
            "Epoch 204: W1=2.4615585803985596 b=4.672013759613037, loss=29.535947799682617\n",
            "Epoch 205: W1=2.4622092247009277 b=4.6797614097595215, loss=43.074607849121094\n",
            "Epoch 206: W1=2.461630344390869 b=4.687627792358398, loss=38.76456832885742\n",
            "Epoch 207: W1=2.4594972133636475 b=4.693751811981201, loss=33.440799713134766\n",
            "Epoch 208: W1=2.4553067684173584 b=4.696526527404785, loss=40.32474899291992\n",
            "Epoch 209: W1=2.4551570415496826 b=4.70416784286499, loss=45.24325180053711\n",
            "Epoch 210: W1=2.455526351928711 b=4.713937759399414, loss=44.697052001953125\n",
            "Epoch 211: W1=2.4587454795837402 b=4.727109432220459, loss=36.754180908203125\n",
            "Epoch 212: W1=2.4592373371124268 b=4.735539436340332, loss=41.84263610839844\n",
            "Epoch 213: W1=2.4606306552886963 b=4.745563983917236, loss=45.91303253173828\n",
            "Epoch 214: W1=2.459102153778076 b=4.7533278465271, loss=40.76332473754883\n",
            "Epoch 215: W1=2.460803508758545 b=4.763942241668701, loss=40.46338653564453\n",
            "Epoch 216: W1=2.4571492671966553 b=4.769083023071289, loss=35.78013229370117\n",
            "Epoch 217: W1=2.451192617416382 b=4.769375801086426, loss=41.97483825683594\n",
            "Epoch 218: W1=2.4508824348449707 b=4.778866291046143, loss=35.6566047668457\n",
            "Epoch 219: W1=2.4518563747406006 b=4.786938667297363, loss=39.77321243286133\n",
            "Epoch 220: W1=2.449774980545044 b=4.792674541473389, loss=42.131248474121094\n",
            "Epoch 221: W1=2.4496212005615234 b=4.8014750480651855, loss=42.212371826171875\n",
            "Epoch 222: W1=2.447007417678833 b=4.808476448059082, loss=31.428495407104492\n",
            "Epoch 223: W1=2.446681499481201 b=4.814828872680664, loss=50.0977783203125\n",
            "Epoch 224: W1=2.449507236480713 b=4.826266765594482, loss=49.572322845458984\n",
            "Epoch 225: W1=2.449431896209717 b=4.837230205535889, loss=40.066776275634766\n",
            "Epoch 226: W1=2.4518368244171143 b=4.847610950469971, loss=47.39768600463867\n",
            "Epoch 227: W1=2.450796604156494 b=4.856972694396973, loss=43.045040130615234\n",
            "Epoch 228: W1=2.452568531036377 b=4.868440628051758, loss=37.117286682128906\n",
            "Epoch 229: W1=2.4522857666015625 b=4.875265121459961, loss=40.151485443115234\n",
            "Epoch 230: W1=2.4493777751922607 b=4.880958080291748, loss=44.45249557495117\n",
            "Epoch 231: W1=2.450071096420288 b=4.890435218811035, loss=42.57011413574219\n",
            "Epoch 232: W1=2.453484296798706 b=4.902474403381348, loss=41.20125961303711\n",
            "Epoch 233: W1=2.4496121406555176 b=4.906764984130859, loss=39.929779052734375\n",
            "Epoch 234: W1=2.4497287273406982 b=4.915200233459473, loss=35.97698211669922\n",
            "Epoch 235: W1=2.4524102210998535 b=4.925253868103027, loss=46.39426803588867\n",
            "Epoch 236: W1=2.4476380348205566 b=4.928820610046387, loss=45.410484313964844\n",
            "Epoch 237: W1=2.446729898452759 b=4.936188697814941, loss=46.9278678894043\n",
            "Epoch 238: W1=2.447605848312378 b=4.946773052215576, loss=54.825504302978516\n",
            "Epoch 239: W1=2.444624423980713 b=4.955982208251953, loss=36.212127685546875\n",
            "Epoch 240: W1=2.4453282356262207 b=4.964036464691162, loss=48.757755279541016\n",
            "Epoch 241: W1=2.4486427307128906 b=4.977097988128662, loss=40.73073959350586\n",
            "Epoch 242: W1=2.444460391998291 b=4.981223106384277, loss=36.2460823059082\n",
            "Epoch 243: W1=2.4401865005493164 b=4.984055042266846, loss=38.43962860107422\n",
            "Epoch 244: W1=2.441437005996704 b=4.993876934051514, loss=44.443729400634766\n",
            "Epoch 245: W1=2.4458858966827393 b=5.006541728973389, loss=42.47929763793945\n",
            "Epoch 246: W1=2.446382761001587 b=5.014982223510742, loss=40.962188720703125\n",
            "Epoch 247: W1=2.4454994201660156 b=5.022439956665039, loss=44.3774299621582\n",
            "Epoch 248: W1=2.4462695121765137 b=5.033547878265381, loss=39.68580627441406\n",
            "Epoch 249: W1=2.444568634033203 b=5.0398783683776855, loss=36.32594680786133\n",
            "Epoch 250: W1=2.445258855819702 b=5.047308444976807, loss=43.180503845214844\n",
            "Epoch 251: W1=2.4439446926116943 b=5.054304122924805, loss=35.92805099487305\n",
            "Epoch 252: W1=2.4453911781311035 b=5.0636725425720215, loss=30.357759475708008\n",
            "Epoch 253: W1=2.4456121921539307 b=5.070480823516846, loss=41.0782470703125\n",
            "Epoch 254: W1=2.4433858394622803 b=5.077913284301758, loss=41.703773498535156\n",
            "Epoch 255: W1=2.4429068565368652 b=5.084619045257568, loss=41.684478759765625\n",
            "Epoch 256: W1=2.444819211959839 b=5.095181465148926, loss=45.55686569213867\n",
            "Epoch 257: W1=2.4424078464508057 b=5.101809978485107, loss=38.157676696777344\n",
            "Epoch 258: W1=2.4416897296905518 b=5.108224868774414, loss=46.704647064208984\n",
            "Epoch 259: W1=2.4420711994171143 b=5.118988513946533, loss=50.47063446044922\n",
            "Epoch 260: W1=2.44120192527771 b=5.128759384155273, loss=48.73188781738281\n",
            "Epoch 261: W1=2.443800926208496 b=5.14068603515625, loss=43.63105010986328\n",
            "Epoch 262: W1=2.4424524307250977 b=5.148778438568115, loss=40.723350524902344\n",
            "Epoch 263: W1=2.4412407875061035 b=5.155996322631836, loss=27.18779754638672\n",
            "Epoch 264: W1=2.4437317848205566 b=5.163097381591797, loss=34.86698913574219\n",
            "Epoch 265: W1=2.443268060684204 b=5.169445514678955, loss=44.26968765258789\n",
            "Epoch 266: W1=2.4449658393859863 b=5.181168556213379, loss=32.697330474853516\n",
            "Epoch 267: W1=2.4442310333251953 b=5.1869378089904785, loss=35.12307357788086\n",
            "Epoch 268: W1=2.4459729194641113 b=5.1958770751953125, loss=43.77877426147461\n",
            "Epoch 269: W1=2.4457149505615234 b=5.204405307769775, loss=41.852901458740234\n",
            "Epoch 270: W1=2.4457387924194336 b=5.214111328125, loss=42.35417175292969\n",
            "Epoch 271: W1=2.4443750381469727 b=5.221165180206299, loss=43.78871536254883\n",
            "Epoch 272: W1=2.444213390350342 b=5.2305731773376465, loss=35.621070861816406\n",
            "Epoch 273: W1=2.441863775253296 b=5.235525131225586, loss=38.10808181762695\n",
            "Epoch 274: W1=2.4408440589904785 b=5.24135684967041, loss=39.9284782409668\n",
            "Epoch 275: W1=2.4401257038116455 b=5.249015808105469, loss=42.506832122802734\n",
            "Epoch 276: W1=2.441322088241577 b=5.257771968841553, loss=39.811458587646484\n",
            "Epoch 277: W1=2.4386730194091797 b=5.263545036315918, loss=39.30405807495117\n",
            "Epoch 278: W1=2.4390060901641846 b=5.272520065307617, loss=42.687191009521484\n",
            "Epoch 279: W1=2.4418134689331055 b=5.284156799316406, loss=36.250709533691406\n",
            "Epoch 280: W1=2.4363255500793457 b=5.284375190734863, loss=34.84983825683594\n",
            "Epoch 281: W1=2.436286211013794 b=5.290159225463867, loss=40.40724563598633\n",
            "Epoch 282: W1=2.440239667892456 b=5.302089691162109, loss=29.966623306274414\n",
            "Epoch 283: W1=2.4408533573150635 b=5.3089494705200195, loss=45.807186126708984\n",
            "Epoch 284: W1=2.442831516265869 b=5.320903301239014, loss=41.00492858886719\n",
            "Epoch 285: W1=2.4377644062042236 b=5.323998928070068, loss=40.862220764160156\n",
            "Epoch 286: W1=2.436269760131836 b=5.330907344818115, loss=46.89656066894531\n",
            "Epoch 287: W1=2.4341835975646973 b=5.338481903076172, loss=37.127384185791016\n",
            "Epoch 288: W1=2.4374935626983643 b=5.348815441131592, loss=44.351463317871094\n",
            "Epoch 289: W1=2.436326026916504 b=5.3568830490112305, loss=42.536495208740234\n",
            "Epoch 290: W1=2.437709093093872 b=5.367979049682617, loss=44.77323913574219\n",
            "Epoch 291: W1=2.436992645263672 b=5.3763957023620605, loss=39.191131591796875\n",
            "Epoch 292: W1=2.435671329498291 b=5.383730411529541, loss=31.025468826293945\n",
            "Epoch 293: W1=2.4376983642578125 b=5.3924078941345215, loss=42.749732971191406\n",
            "Epoch 294: W1=2.4378883838653564 b=5.402163982391357, loss=33.532047271728516\n",
            "Epoch 295: W1=2.436789035797119 b=5.406783103942871, loss=46.154991149902344\n",
            "Epoch 296: W1=2.4381000995635986 b=5.417619705200195, loss=42.0031623840332\n",
            "Epoch 297: W1=2.4370646476745605 b=5.425431728363037, loss=30.8416690826416\n",
            "Epoch 298: W1=2.4343197345733643 b=5.427639484405518, loss=42.817806243896484\n",
            "Epoch 299: W1=2.4348294734954834 b=5.437304973602295, loss=39.31401443481445\n",
            "Epoch 300: W1=2.4347684383392334 b=5.444952964782715, loss=50.89860916137695\n",
            "Epoch 301: W1=2.4417521953582764 b=5.461947441101074, loss=36.69744110107422\n",
            "Epoch 302: W1=2.439340829849243 b=5.467095851898193, loss=41.80629348754883\n",
            "Epoch 303: W1=2.4392008781433105 b=5.476479530334473, loss=38.841819763183594\n",
            "Epoch 304: W1=2.4382357597351074 b=5.483703136444092, loss=38.599239349365234\n",
            "Epoch 305: W1=2.438478946685791 b=5.4925007820129395, loss=43.75786590576172\n",
            "Epoch 306: W1=2.4361143112182617 b=5.498407363891602, loss=35.347808837890625\n",
            "Epoch 307: W1=2.4377806186676025 b=5.507705211639404, loss=43.935707092285156\n",
            "Epoch 308: W1=2.438262939453125 b=5.516979217529297, loss=37.876853942871094\n",
            "Epoch 309: W1=2.4398276805877686 b=5.527228832244873, loss=42.24113845825195\n",
            "Epoch 310: W1=2.438772678375244 b=5.534358978271484, loss=48.114234924316406\n",
            "Epoch 311: W1=2.4384796619415283 b=5.543162822723389, loss=37.87373352050781\n",
            "Epoch 312: W1=2.4350714683532715 b=5.5475850105285645, loss=37.23454666137695\n",
            "Epoch 313: W1=2.4343152046203613 b=5.553553581237793, loss=46.094173431396484\n",
            "Epoch 314: W1=2.4321200847625732 b=5.560504913330078, loss=38.328739166259766\n",
            "Epoch 315: W1=2.4311115741729736 b=5.566837310791016, loss=40.20704650878906\n",
            "Epoch 316: W1=2.4307949542999268 b=5.575362205505371, loss=46.276371002197266\n",
            "Epoch 317: W1=2.4285507202148438 b=5.580777168273926, loss=42.6657600402832\n",
            "Epoch 318: W1=2.4308314323425293 b=5.591513156890869, loss=41.2640266418457\n",
            "Epoch 319: W1=2.429128646850586 b=5.597672462463379, loss=46.82411575317383\n",
            "Epoch 320: W1=2.4300482273101807 b=5.609435558319092, loss=50.08137130737305\n",
            "Epoch 321: W1=2.428936243057251 b=5.619889736175537, loss=43.195220947265625\n",
            "Epoch 322: W1=2.429354429244995 b=5.628567218780518, loss=45.93948745727539\n",
            "Epoch 323: W1=2.428466320037842 b=5.638062000274658, loss=34.17938232421875\n",
            "Epoch 324: W1=2.425650119781494 b=5.64066743850708, loss=36.95282745361328\n",
            "Epoch 325: W1=2.4249660968780518 b=5.646923065185547, loss=35.69343185424805\n",
            "Epoch 326: W1=2.42881178855896 b=5.657179355621338, loss=50.21598815917969\n",
            "Epoch 327: W1=2.4303762912750244 b=5.669013500213623, loss=47.06635665893555\n",
            "Epoch 328: W1=2.428934335708618 b=5.675609588623047, loss=41.261531829833984\n",
            "Epoch 329: W1=2.4265236854553223 b=5.681643009185791, loss=37.152278900146484\n",
            "Epoch 330: W1=2.4266881942749023 b=5.688179016113281, loss=41.80067825317383\n",
            "Epoch 331: W1=2.428285598754883 b=5.698302268981934, loss=40.685665130615234\n",
            "Epoch 332: W1=2.4269089698791504 b=5.704653739929199, loss=43.799476623535156\n",
            "Epoch 333: W1=2.4285826683044434 b=5.714720249176025, loss=39.1082649230957\n",
            "Epoch 334: W1=2.427344560623169 b=5.721707820892334, loss=39.2251091003418\n",
            "Epoch 335: W1=2.4237382411956787 b=5.726428985595703, loss=39.263423919677734\n",
            "Epoch 336: W1=2.4265029430389404 b=5.737371444702148, loss=39.97507095336914\n",
            "Epoch 337: W1=2.429428815841675 b=5.748297691345215, loss=44.78175735473633\n",
            "Epoch 338: W1=2.429694652557373 b=5.757632255554199, loss=42.890380859375\n",
            "Epoch 339: W1=2.4255564212799072 b=5.761246204376221, loss=41.55064010620117\n",
            "Epoch 340: W1=2.42488956451416 b=5.7688679695129395, loss=51.2224006652832\n",
            "Epoch 341: W1=2.4231324195861816 b=5.776292324066162, loss=42.47770690917969\n",
            "Epoch 342: W1=2.420501470565796 b=5.782000541687012, loss=44.211456298828125\n",
            "Epoch 343: W1=2.4215683937072754 b=5.791437149047852, loss=33.500179290771484\n",
            "Epoch 344: W1=2.4196650981903076 b=5.797088146209717, loss=36.00795364379883\n",
            "Epoch 345: W1=2.419259548187256 b=5.803367614746094, loss=42.22071838378906\n",
            "Epoch 346: W1=2.4219775199890137 b=5.814289093017578, loss=45.375431060791016\n",
            "Epoch 347: W1=2.4206185340881348 b=5.820180892944336, loss=43.798038482666016\n",
            "Epoch 348: W1=2.422137498855591 b=5.829259395599365, loss=39.190181732177734\n",
            "Epoch 349: W1=2.4205784797668457 b=5.835226058959961, loss=46.913238525390625\n",
            "Epoch 350: W1=2.419646739959717 b=5.843202114105225, loss=39.720970153808594\n",
            "Epoch 351: W1=2.4192090034484863 b=5.851192951202393, loss=41.13023376464844\n",
            "Epoch 352: W1=2.421631336212158 b=5.861705780029297, loss=43.546932220458984\n",
            "Epoch 353: W1=2.4206478595733643 b=5.868743896484375, loss=39.093223571777344\n",
            "Epoch 354: W1=2.420427083969116 b=5.8753662109375, loss=35.84089279174805\n",
            "Epoch 355: W1=2.420428991317749 b=5.882084846496582, loss=42.804439544677734\n",
            "Epoch 356: W1=2.421358585357666 b=5.890868186950684, loss=37.182472229003906\n",
            "Epoch 357: W1=2.4188992977142334 b=5.89470100402832, loss=41.170047760009766\n",
            "Epoch 358: W1=2.4154560565948486 b=5.897404193878174, loss=30.890052795410156\n",
            "Epoch 359: W1=2.412729263305664 b=5.8998942375183105, loss=40.57145309448242\n",
            "Epoch 360: W1=2.414332628250122 b=5.909790515899658, loss=39.83210372924805\n",
            "Epoch 361: W1=2.415215253829956 b=5.917275428771973, loss=47.0852165222168\n",
            "Epoch 362: W1=2.414687395095825 b=5.92571496963501, loss=39.53028869628906\n",
            "Epoch 363: W1=2.415260076522827 b=5.934154510498047, loss=42.413997650146484\n",
            "Epoch 364: W1=2.4178502559661865 b=5.945204257965088, loss=41.407188415527344\n",
            "Epoch 365: W1=2.4198155403137207 b=5.954724311828613, loss=45.19227600097656\n",
            "Epoch 366: W1=2.4218502044677734 b=5.965640544891357, loss=42.045413970947266\n",
            "Epoch 367: W1=2.4225611686706543 b=5.974012851715088, loss=40.76542282104492\n",
            "Epoch 368: W1=2.422567367553711 b=5.981991291046143, loss=35.239864349365234\n",
            "Epoch 369: W1=2.4227254390716553 b=5.987768173217773, loss=33.33858871459961\n",
            "Epoch 370: W1=2.421752691268921 b=5.992568016052246, loss=43.092079162597656\n",
            "Epoch 371: W1=2.418478488922119 b=5.997480869293213, loss=49.2841796875\n",
            "Epoch 372: W1=2.417396068572998 b=6.006245136260986, loss=45.884918212890625\n",
            "Epoch 373: W1=2.4204623699188232 b=6.017910480499268, loss=41.71018600463867\n",
            "Epoch 374: W1=2.4193239212036133 b=6.025081157684326, loss=48.6165657043457\n",
            "Epoch 375: W1=2.4191482067108154 b=6.034978866577148, loss=43.911720275878906\n",
            "Epoch 376: W1=2.418247938156128 b=6.041670799255371, loss=46.6547966003418\n",
            "Epoch 377: W1=2.421194076538086 b=6.053289890289307, loss=41.42121124267578\n",
            "Epoch 378: W1=2.4206228256225586 b=6.06067419052124, loss=31.392324447631836\n",
            "Epoch 379: W1=2.420525074005127 b=6.067608833312988, loss=30.5093936920166\n",
            "Epoch 380: W1=2.4210596084594727 b=6.075292110443115, loss=35.553688049316406\n",
            "Epoch 381: W1=2.419646978378296 b=6.080005168914795, loss=37.166221618652344\n",
            "Epoch 382: W1=2.419219732284546 b=6.086196422576904, loss=43.7437629699707\n",
            "Epoch 383: W1=2.4157629013061523 b=6.091362476348877, loss=47.49555206298828\n",
            "Epoch 384: W1=2.417550563812256 b=6.1012163162231445, loss=41.843841552734375\n",
            "Epoch 385: W1=2.416796922683716 b=6.108078956604004, loss=40.318851470947266\n",
            "Epoch 386: W1=2.415794849395752 b=6.113702774047852, loss=37.698326110839844\n",
            "Epoch 387: W1=2.4112813472747803 b=6.1150360107421875, loss=48.567138671875\n",
            "Epoch 388: W1=2.4104607105255127 b=6.123777866363525, loss=32.1302490234375\n",
            "Epoch 389: W1=2.410961866378784 b=6.130832672119141, loss=50.692222595214844\n",
            "Epoch 390: W1=2.413525342941284 b=6.14349889755249, loss=47.780906677246094\n",
            "Epoch 391: W1=2.415905714035034 b=6.156642436981201, loss=38.123104095458984\n",
            "Epoch 392: W1=2.4177188873291016 b=6.165030002593994, loss=36.5415153503418\n",
            "Epoch 393: W1=2.4194905757904053 b=6.173935890197754, loss=42.35356521606445\n",
            "Epoch 394: W1=2.417621612548828 b=6.181439399719238, loss=41.02614212036133\n",
            "Epoch 395: W1=2.4158027172088623 b=6.1870036125183105, loss=52.25160598754883\n",
            "Epoch 396: W1=2.4128565788269043 b=6.194427013397217, loss=40.14200210571289\n",
            "Epoch 397: W1=2.415093421936035 b=6.204817295074463, loss=41.539512634277344\n",
            "Epoch 398: W1=2.4126336574554443 b=6.2107343673706055, loss=37.09150314331055\n",
            "Epoch 399: W1=2.414363145828247 b=6.219078063964844, loss=38.63985824584961\n",
            "Epoch 400: W1=2.415010452270508 b=6.226436138153076, loss=39.660682678222656\n",
            "Epoch 401: W1=2.4137589931488037 b=6.232912063598633, loss=45.72630310058594\n",
            "Epoch 402: W1=2.415970802307129 b=6.24393367767334, loss=52.12578582763672\n",
            "Epoch 403: W1=2.415166139602661 b=6.253714561462402, loss=38.34993362426758\n",
            "Epoch 404: W1=2.418360948562622 b=6.263727188110352, loss=39.715553283691406\n",
            "Epoch 405: W1=2.4182870388031006 b=6.271307468414307, loss=37.806182861328125\n",
            "Epoch 406: W1=2.417056083679199 b=6.278087139129639, loss=44.95936584472656\n",
            "Epoch 407: W1=2.4156765937805176 b=6.286335468292236, loss=39.959468841552734\n",
            "Epoch 408: W1=2.4154770374298096 b=6.292734146118164, loss=29.89333724975586\n",
            "Epoch 409: W1=2.4149811267852783 b=6.2964768409729, loss=38.49766540527344\n",
            "Epoch 410: W1=2.4142727851867676 b=6.303292274475098, loss=42.53717803955078\n",
            "Epoch 411: W1=2.412961721420288 b=6.3115315437316895, loss=40.835662841796875\n",
            "Epoch 412: W1=2.4124128818511963 b=6.318325042724609, loss=36.368873596191406\n",
            "Epoch 413: W1=2.412238359451294 b=6.324342250823975, loss=39.066978454589844\n",
            "Epoch 414: W1=2.4097139835357666 b=6.329272747039795, loss=37.85478210449219\n",
            "Epoch 415: W1=2.4076743125915527 b=6.335076332092285, loss=34.277130126953125\n",
            "Epoch 416: W1=2.4048914909362793 b=6.338179588317871, loss=40.63862228393555\n",
            "Epoch 417: W1=2.407371759414673 b=6.3481245040893555, loss=37.83473205566406\n",
            "Epoch 418: W1=2.4065661430358887 b=6.353326797485352, loss=35.442115783691406\n",
            "Epoch 419: W1=2.4044694900512695 b=6.3565287590026855, loss=34.52299880981445\n",
            "Epoch 420: W1=2.4047839641571045 b=6.361147880554199, loss=40.27054214477539\n",
            "Epoch 421: W1=2.408069372177124 b=6.372446060180664, loss=37.94916534423828\n",
            "Epoch 422: W1=2.4094431400299072 b=6.380380153656006, loss=37.936012268066406\n",
            "Epoch 423: W1=2.4085185527801514 b=6.386752128601074, loss=31.959022521972656\n",
            "Epoch 424: W1=2.4099843502044678 b=6.393643379211426, loss=41.071102142333984\n",
            "Epoch 425: W1=2.4096970558166504 b=6.400416851043701, loss=38.847496032714844\n",
            "Epoch 426: W1=2.4090425968170166 b=6.406879425048828, loss=42.673667907714844\n",
            "Epoch 427: W1=2.4092252254486084 b=6.415659427642822, loss=41.03737258911133\n",
            "Epoch 428: W1=2.4078409671783447 b=6.4219255447387695, loss=43.127166748046875\n",
            "Epoch 429: W1=2.407548666000366 b=6.429318428039551, loss=44.22062683105469\n",
            "Epoch 430: W1=2.4084830284118652 b=6.43790864944458, loss=37.57316970825195\n",
            "Epoch 431: W1=2.408535957336426 b=6.444355010986328, loss=40.75127029418945\n",
            "Epoch 432: W1=2.409099578857422 b=6.452332973480225, loss=34.73320388793945\n",
            "Epoch 433: W1=2.4100327491760254 b=6.459555625915527, loss=37.45948028564453\n",
            "Epoch 434: W1=2.4101147651672363 b=6.46600866317749, loss=41.38399887084961\n",
            "Epoch 435: W1=2.4098989963531494 b=6.475244998931885, loss=42.25971221923828\n",
            "Epoch 436: W1=2.4111437797546387 b=6.484875679016113, loss=36.37626266479492\n",
            "Epoch 437: W1=2.4115521907806396 b=6.49274206161499, loss=48.58900451660156\n",
            "Epoch 438: W1=2.4108059406280518 b=6.502366065979004, loss=42.699134826660156\n",
            "Epoch 439: W1=2.411909818649292 b=6.512229919433594, loss=45.15876388549805\n",
            "Epoch 440: W1=2.4118094444274902 b=6.521694660186768, loss=32.77180099487305\n",
            "Epoch 441: W1=2.410557985305786 b=6.5269975662231445, loss=31.234703063964844\n",
            "Epoch 442: W1=2.408846139907837 b=6.530819892883301, loss=44.795166015625\n",
            "Epoch 443: W1=2.4065449237823486 b=6.536904811859131, loss=41.168479919433594\n",
            "Epoch 444: W1=2.4067187309265137 b=6.545300483703613, loss=35.57707214355469\n",
            "Epoch 445: W1=2.404650926589966 b=6.549493789672852, loss=37.80049514770508\n",
            "Epoch 446: W1=2.404231071472168 b=6.556766986846924, loss=46.38578796386719\n",
            "Epoch 447: W1=2.401394844055176 b=6.562339782714844, loss=37.231597900390625\n",
            "Epoch 448: W1=2.402818441390991 b=6.570304870605469, loss=36.28921127319336\n",
            "Epoch 449: W1=2.4054083824157715 b=6.57854700088501, loss=44.52411651611328\n",
            "Epoch 450: W1=2.4061026573181152 b=6.588441371917725, loss=43.21908187866211\n",
            "Epoch 451: W1=2.404167890548706 b=6.5947585105896, loss=33.796409606933594\n",
            "Epoch 452: W1=2.4026336669921875 b=6.5993852615356445, loss=35.056339263916016\n",
            "Epoch 453: W1=2.4017868041992188 b=6.60418701171875, loss=48.98295593261719\n",
            "Epoch 454: W1=2.4043478965759277 b=6.6159491539001465, loss=41.32548522949219\n",
            "Epoch 455: W1=2.403782844543457 b=6.622750759124756, loss=34.0115852355957\n",
            "Epoch 456: W1=2.4008007049560547 b=6.625239849090576, loss=35.60092544555664\n",
            "Epoch 457: W1=2.4028401374816895 b=6.633749008178711, loss=36.00761413574219\n",
            "Epoch 458: W1=2.401003837585449 b=6.638223648071289, loss=37.69569396972656\n",
            "Epoch 459: W1=2.400390386581421 b=6.644649505615234, loss=40.648651123046875\n",
            "Epoch 460: W1=2.401313304901123 b=6.652814865112305, loss=39.999237060546875\n",
            "Epoch 461: W1=2.399988889694214 b=6.659607410430908, loss=47.582550048828125\n",
            "Epoch 462: W1=2.404313564300537 b=6.671657085418701, loss=44.2280387878418\n",
            "Epoch 463: W1=2.402456521987915 b=6.6772918701171875, loss=40.322750091552734\n",
            "Epoch 464: W1=2.402103900909424 b=6.683658599853516, loss=53.41718673706055\n",
            "Epoch 465: W1=2.404681444168091 b=6.695507049560547, loss=30.849140167236328\n",
            "Epoch 466: W1=2.401865243911743 b=6.6984758377075195, loss=36.714942932128906\n",
            "Epoch 467: W1=2.404712200164795 b=6.70823860168457, loss=44.61485290527344\n",
            "Epoch 468: W1=2.4040143489837646 b=6.716277599334717, loss=53.943817138671875\n",
            "Epoch 469: W1=2.401437520980835 b=6.72355842590332, loss=35.25088882446289\n",
            "Epoch 470: W1=2.4006261825561523 b=6.728837966918945, loss=49.434112548828125\n",
            "Epoch 471: W1=2.3978805541992188 b=6.736358165740967, loss=37.459022521972656\n",
            "Epoch 472: W1=2.399136543273926 b=6.745051860809326, loss=46.40092849731445\n",
            "Epoch 473: W1=2.3950703144073486 b=6.748549938201904, loss=45.21468734741211\n",
            "Epoch 474: W1=2.3929262161254883 b=6.75594425201416, loss=40.2632942199707\n",
            "Epoch 475: W1=2.3929831981658936 b=6.7628278732299805, loss=40.27730941772461\n",
            "Epoch 476: W1=2.392723321914673 b=6.769320011138916, loss=28.832204818725586\n",
            "Epoch 477: W1=2.3913886547088623 b=6.772523403167725, loss=45.764625549316406\n",
            "Epoch 478: W1=2.3941702842712402 b=6.782981872558594, loss=43.44464874267578\n",
            "Epoch 479: W1=2.390782356262207 b=6.787169933319092, loss=51.5307502746582\n",
            "Epoch 480: W1=2.394770622253418 b=6.8012471199035645, loss=40.96596145629883\n",
            "Epoch 481: W1=2.3966243267059326 b=6.811507225036621, loss=35.10670852661133\n",
            "Epoch 482: W1=2.3930444717407227 b=6.813775062561035, loss=32.67447280883789\n",
            "Epoch 483: W1=2.393789291381836 b=6.820199966430664, loss=45.38579559326172\n",
            "Epoch 484: W1=2.395430326461792 b=6.832597732543945, loss=46.57109451293945\n",
            "Epoch 485: W1=2.396419048309326 b=6.8428449630737305, loss=43.63249206542969\n",
            "Epoch 486: W1=2.3991594314575195 b=6.853081703186035, loss=36.958248138427734\n",
            "Epoch 487: W1=2.400188684463501 b=6.860357284545898, loss=29.780254364013672\n",
            "Epoch 488: W1=2.398844003677368 b=6.864044189453125, loss=43.8478889465332\n",
            "Epoch 489: W1=2.3966598510742188 b=6.87164831161499, loss=42.42888259887695\n",
            "Epoch 490: W1=2.4009947776794434 b=6.885037422180176, loss=42.9087028503418\n",
            "Epoch 491: W1=2.39937424659729 b=6.891445636749268, loss=37.1783332824707\n",
            "Epoch 492: W1=2.398766279220581 b=6.897021770477295, loss=45.59333801269531\n",
            "Epoch 493: W1=2.3985443115234375 b=6.905996322631836, loss=40.433650970458984\n",
            "Epoch 494: W1=2.3983078002929688 b=6.912866115570068, loss=37.458106994628906\n",
            "Epoch 495: W1=2.396463394165039 b=6.918882369995117, loss=33.37519073486328\n",
            "Epoch 496: W1=2.3943328857421875 b=6.922563552856445, loss=40.517539978027344\n",
            "Epoch 497: W1=2.3964285850524902 b=6.93248987197876, loss=42.15618133544922\n",
            "Epoch 498: W1=2.394808053970337 b=6.93869686126709, loss=47.79225158691406\n",
            "Epoch 499: W1=2.397188663482666 b=6.94917631149292, loss=41.506866455078125\n"
          ]
        }
      ]
    },
    {
      "cell_type": "code",
      "source": [],
      "metadata": {
        "id": "2E8vv6QrDeTX"
      },
      "execution_count": null,
      "outputs": []
    }
  ]
}